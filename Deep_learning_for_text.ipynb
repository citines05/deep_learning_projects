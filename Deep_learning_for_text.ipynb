{
  "metadata": {
    "colab": {
      "provenance": [],
      "gpuType": "T4"
    },
    "kernelspec": {
      "name": "python3",
      "display_name": "Python 3"
    },
    "language_info": {
      "name": "python",
      "version": "3.10.14",
      "mimetype": "text/x-python",
      "codemirror_mode": {
        "name": "ipython",
        "version": 3
      },
      "pygments_lexer": "ipython3",
      "nbconvert_exporter": "python",
      "file_extension": ".py"
    },
    "accelerator": "GPU",
    "kaggle": {
      "accelerator": "nvidiaTeslaT4",
      "dataSources": [],
      "dockerImageVersionId": 30761,
      "isInternetEnabled": true,
      "language": "python",
      "sourceType": "notebook",
      "isGpuEnabled": true
    }
  },
  "nbformat_minor": 0,
  "nbformat": 4,
  "cells": [
    {
      "cell_type": "markdown",
      "source": [
        "# **Notebook created with goal of practicing NLP with Transformers knowledge, with basis on instructions from DEEP LEARNING with Python (Second edition)**"
      ],
      "metadata": {
        "id": "Z4munvpVhLpl"
      }
    },
    {
      "cell_type": "markdown",
      "source": [
        "# ***Preparing the IMDB movie reviews data***\n",
        "\n"
      ],
      "metadata": {
        "id": "aSOFmlfJetpW"
      }
    },
    {
      "cell_type": "markdown",
      "source": [
        "## Dataset download\n"
      ],
      "metadata": {
        "id": "-ZMEcgKtgFV1"
      }
    },
    {
      "cell_type": "code",
      "source": [
        "import logging, os\n",
        "\n",
        "# Trying to get rid of annoying CUDA warnings\n",
        "os.environ[\"CUDA_LAUNCH_BLOCKING\"] = \"2\"\n",
        "os.environ[\"TF_CPP_MIN_LOG_LEVEL\"] = \"2\"\n",
        "os.environ[\"CUDA_DEVICE_WAITS_ON_EXCEPTION\"] = \"2\""
      ],
      "metadata": {
        "id": "EfkCufA2q3jV",
        "execution": {
          "iopub.status.busy": "2024-10-12T23:07:39.108542Z",
          "iopub.execute_input": "2024-10-12T23:07:39.108905Z",
          "iopub.status.idle": "2024-10-12T23:07:39.114365Z",
          "shell.execute_reply.started": "2024-10-12T23:07:39.108858Z",
          "shell.execute_reply": "2024-10-12T23:07:39.113278Z"
        },
        "trusted": true
      },
      "execution_count": 1,
      "outputs": []
    },
    {
      "cell_type": "code",
      "source": [
        "!curl -O https:/ai.stanford.edu/~amaas/data/sentiment/aclImdb_v1.tar.gz # The updated format\n",
        "!tar -xf aclImdb_v1.tar.gz"
      ],
      "metadata": {
        "id": "9zkWALQPejzv",
        "outputId": "148b05ef-6250-42aa-c097-4858972d3ddb",
        "execution": {
          "iopub.status.busy": "2024-10-12T23:07:39.116555Z",
          "iopub.execute_input": "2024-10-12T23:07:39.116869Z",
          "iopub.status.idle": "2024-10-12T23:08:05.901246Z",
          "shell.execute_reply.started": "2024-10-12T23:07:39.116832Z",
          "shell.execute_reply": "2024-10-12T23:08:05.900061Z"
        },
        "trusted": true,
        "colab": {
          "base_uri": "https://localhost:8080/"
        }
      },
      "execution_count": 2,
      "outputs": [
        {
          "output_type": "stream",
          "name": "stdout",
          "text": [
            "  % Total    % Received % Xferd  Average Speed   Time    Time     Time  Current\n",
            "                                 Dload  Upload   Total   Spent    Left  Speed\n",
            "100 80.2M  100 80.2M    0     0  9448k      0  0:00:08  0:00:08 --:--:-- 8200k\n"
          ]
        }
      ]
    },
    {
      "cell_type": "markdown",
      "source": [
        "## Useless subdirectory removal\n",
        "\n"
      ],
      "metadata": {
        "id": "lIPZ8rnBgLVE"
      }
    },
    {
      "cell_type": "code",
      "source": [
        "!rm -r aclImdb/train/unsup"
      ],
      "metadata": {
        "id": "imJBfOGcf_jO",
        "execution": {
          "iopub.status.busy": "2024-10-12T23:08:05.903513Z",
          "iopub.execute_input": "2024-10-12T23:08:05.904393Z",
          "iopub.status.idle": "2024-10-12T23:08:07.884109Z",
          "shell.execute_reply.started": "2024-10-12T23:08:05.904324Z",
          "shell.execute_reply": "2024-10-12T23:08:07.882991Z"
        },
        "trusted": true
      },
      "execution_count": 3,
      "outputs": []
    },
    {
      "cell_type": "markdown",
      "source": [
        "## Data verification"
      ],
      "metadata": {
        "id": "95z-ZTjhg45n"
      }
    },
    {
      "cell_type": "code",
      "source": [
        "!cat aclImdb/train/pos/4077_10.txt"
      ],
      "metadata": {
        "id": "ucxc8BxQg-XP",
        "outputId": "5fb3050d-084e-4b1d-c1da-6b0ed6f23de0",
        "execution": {
          "iopub.status.busy": "2024-10-12T23:08:07.885915Z",
          "iopub.execute_input": "2024-10-12T23:08:07.886188Z",
          "iopub.status.idle": "2024-10-12T23:08:08.937322Z",
          "shell.execute_reply.started": "2024-10-12T23:08:07.886146Z",
          "shell.execute_reply": "2024-10-12T23:08:08.936300Z"
        },
        "trusted": true,
        "colab": {
          "base_uri": "https://localhost:8080/"
        }
      },
      "execution_count": 4,
      "outputs": [
        {
          "output_type": "stream",
          "name": "stdout",
          "text": [
            "I first saw this back in the early 90s on UK TV, i did like it then but i missed the chance to tape it, many years passed but the film always stuck with me and i lost hope of seeing it TV again, the main thing that stuck with me was the end, the hole castle part really touched me, its easy to watch, has a great story, great music, the list goes on and on, its OK me saying how good it is but everyone will take there own best bits away with them once they have seen it, yes the animation is top notch and beautiful to watch, it does show its age in a very few parts but that has now become part of it beauty, i am so glad it has came out on DVD as it is one of my top 10 films of all time. Buy it or rent it just see it, best viewing is at night alone with drink and food in reach so you don't have to stop the film.<br /><br />Enjoy"
          ]
        }
      ]
    },
    {
      "cell_type": "markdown",
      "source": [
        "## Validation set preparation\n",
        "Creating a new directory that contains 20% of training text files"
      ],
      "metadata": {
        "id": "mqklGnD9hH01"
      }
    },
    {
      "cell_type": "code",
      "source": [
        "import random\n",
        "import shutil\n",
        "import pathlib\n",
        "\n",
        "base_dir = pathlib.Path(\"aclImdb\")\n",
        "val_dir = base_dir/\"val\"\n",
        "train_dir = base_dir/\"train\"\n",
        "test_dir = base_dir/\"test\"\n",
        "\n",
        "for category in (\"neg\", \"pos\"): # Moves the content from test dir to train dir, to reorganize the dataset\n",
        "  files = os.listdir(test_dir/category)\n",
        "  for fname in files:\n",
        "    if fname.endswith(\".txt\"):\n",
        "            # Adds '_t' at the end of file to avoid overlay\n",
        "            new_fname = fname.replace(\".txt\", \"_t.txt\")\n",
        "            old_path = test_dir/category/fname\n",
        "            new_path = train_dir/category/new_fname\n",
        "            shutil.move(old_path, new_path)\n",
        "  print(f'Train_dir for {category}: {len(os.listdir(train_dir/category))}')\n",
        "print(\"\\n\")\n",
        "\n",
        "for category in (\"neg\", \"pos\"): # Reorganizes the dataset\n",
        "  os.makedirs(val_dir/category, exist_ok=True)\n",
        "  files = os.listdir(train_dir/category)\n",
        "\n",
        "  random.Random(1337).shuffle(files) # Shuffle using a seed\n",
        "\n",
        "  num_val_samples = int(0.2 * len(files)) # Take 20% for validation\n",
        "  print(f'Num_val_samples for {category}:{num_val_samples}')\n",
        "  num_test_samples = int(0.2 * len(files)) # Take 20% for test\n",
        "  print(f'Num_test_samples for {category}:{num_test_samples}')\n",
        "\n",
        "  val_files = files[:num_val_samples] # Takes the first 'num_val_samples' files before the num_test_samples\n",
        "  test_files = files[num_val_samples:num_val_samples+num_test_samples] # Takes the first 'num_test_samples' files for test\n",
        "\n",
        "  for fname in val_files: # Moves them to their respective new directories\n",
        "    shutil.move(train_dir/category/fname,\n",
        "                val_dir/category/fname)\n",
        "  for fname in test_files:\n",
        "    shutil.move(train_dir/category/fname,\n",
        "                test_dir/category/fname)"
      ],
      "metadata": {
        "id": "PdmAyrC1hFUc",
        "outputId": "5c69cac1-7bd1-466e-b12c-893a86551e86",
        "execution": {
          "iopub.status.busy": "2024-10-12T23:08:08.941562Z",
          "iopub.execute_input": "2024-10-12T23:08:08.941831Z",
          "iopub.status.idle": "2024-10-12T23:08:14.041146Z",
          "shell.execute_reply.started": "2024-10-12T23:08:08.941794Z",
          "shell.execute_reply": "2024-10-12T23:08:14.040392Z"
        },
        "trusted": true,
        "colab": {
          "base_uri": "https://localhost:8080/"
        }
      },
      "execution_count": 5,
      "outputs": [
        {
          "output_type": "stream",
          "name": "stdout",
          "text": [
            "Train_dir for neg: 25000\n",
            "Train_dir for pos: 25000\n",
            "\n",
            "\n",
            "Num_val_samples for neg:5000\n",
            "Num_test_samples for neg:5000\n",
            "Num_val_samples for pos:5000\n",
            "Num_test_samples for pos:5000\n"
          ]
        }
      ]
    },
    {
      "cell_type": "markdown",
      "source": [
        "## Datasets objects for text\n",
        "\n"
      ],
      "metadata": {
        "id": "bkOFWn41lnE2"
      }
    },
    {
      "cell_type": "code",
      "source": [
        "from tensorflow import keras\n",
        "\n",
        "text_gen = keras.utils\n",
        "\n",
        "batch_size = 16\n",
        "\n",
        "train_ds = text_gen.text_dataset_from_directory(\n",
        "    \"aclImdb/train\", batch_size=batch_size\n",
        "    )\n",
        "val_ds = text_gen.text_dataset_from_directory(\n",
        "    \"aclImdb/val\", batch_size=batch_size\n",
        "    )\n",
        "test_ds = text_gen.text_dataset_from_directory(\n",
        "    \"aclImdb/test\", batch_size=batch_size\n",
        "    )"
      ],
      "metadata": {
        "id": "btqHFmr1mFic",
        "outputId": "abe6f3bf-908f-441b-a023-1c9c02df37d1",
        "execution": {
          "iopub.status.busy": "2024-10-12T23:08:14.042445Z",
          "iopub.execute_input": "2024-10-12T23:08:14.042726Z",
          "iopub.status.idle": "2024-10-12T23:08:21.987120Z",
          "shell.execute_reply.started": "2024-10-12T23:08:14.042674Z",
          "shell.execute_reply": "2024-10-12T23:08:21.986394Z"
        },
        "trusted": true,
        "colab": {
          "base_uri": "https://localhost:8080/"
        }
      },
      "execution_count": 6,
      "outputs": [
        {
          "output_type": "stream",
          "name": "stdout",
          "text": [
            "Found 30000 files belonging to 2 classes.\n",
            "Found 10000 files belonging to 2 classes.\n",
            "Found 10000 files belonging to 2 classes.\n"
          ]
        }
      ]
    },
    {
      "cell_type": "markdown",
      "source": [
        "## Displaying the shapes and dtypes of the first batch"
      ],
      "metadata": {
        "id": "aH7tHKOWnjbH"
      }
    },
    {
      "cell_type": "code",
      "source": [
        "for inputs, targets in train_ds:\n",
        "  print(f'inputs.shape: {inputs.shape}')\n",
        "  print(f'inputs.dtype: {inputs.dtype}')\n",
        "  print(f'targets.shape: {targets.shape}')\n",
        "  print(f'targets.dtype: {targets.dtype}')\n",
        "  print(f'inputs[0]: {inputs[0]}')\n",
        "  print(f'targets[0]: {targets[0]}\\n')\n",
        "  break"
      ],
      "metadata": {
        "id": "irxBvenPnupF",
        "outputId": "ce4275f5-1504-41d1-f216-584ed621a359",
        "execution": {
          "iopub.status.busy": "2024-10-12T23:08:21.988157Z",
          "iopub.execute_input": "2024-10-12T23:08:21.988376Z",
          "iopub.status.idle": "2024-10-12T23:08:22.011978Z",
          "shell.execute_reply.started": "2024-10-12T23:08:21.988333Z",
          "shell.execute_reply": "2024-10-12T23:08:22.011153Z"
        },
        "trusted": true,
        "colab": {
          "base_uri": "https://localhost:8080/"
        }
      },
      "execution_count": 7,
      "outputs": [
        {
          "output_type": "stream",
          "name": "stdout",
          "text": [
            "inputs.shape: (16,)\n",
            "inputs.dtype: <dtype: 'string'>\n",
            "targets.shape: (16,)\n",
            "targets.dtype: <dtype: 'int32'>\n",
            "inputs[0]: b\"An absolutely brilliant show. The second season began where the first ended, with much mystery. Suspense in most, if not all episodes and mystery everywhere. One that made me think and think again. It's truly amazing how the writer can come out with all the connections and link all the characters together and combine all these elements to make the lives of the characters in the show so meaningful. Never fail to excites and I am looking forward to the new season. Hopefully more secrets will be reveal and at the same time, more mystery to be solved. Good selection of cast too for this show, fit the characters perfectly. Really can't wait to finally discover the secret. Hopefully all the hype won't spoil the ending.\"\n",
            "targets[0]: 1\n",
            "\n"
          ]
        }
      ]
    },
    {
      "cell_type": "markdown",
      "source": [
        "# ***Processing words as a sequence: The sequence model approach***\n",
        "Get civilized and value word order please"
      ],
      "metadata": {
        "id": "pXU63sz7hnb_"
      }
    },
    {
      "cell_type": "markdown",
      "source": [
        "##  Preparing integer sequence datasets"
      ],
      "metadata": {
        "id": "-NULY0KYjFMQ"
      }
    },
    {
      "cell_type": "code",
      "source": [
        "from tensorflow.keras.layers import TextVectorization\n",
        "\n",
        "text_vectorization = TextVectorization(\n",
        "    max_tokens=20000,\n",
        "    output_mode=\"int\",\n",
        "    output_sequence_length=600\n",
        ")\n",
        "\n",
        "text_only_train_ds = train_ds.map(lambda x, y: x)\n",
        "\n",
        "text_vectorization.adapt(text_only_train_ds)\n",
        "\n",
        "\n",
        "int_train_ds = train_ds.map(\n",
        "    lambda x,y: ((text_vectorization(x)), y),\n",
        "    num_parallel_calls=4\n",
        ")\n",
        "\n",
        "int_val_ds = val_ds.map(\n",
        "    lambda x,y: ((text_vectorization(x)), y),\n",
        "    num_parallel_calls=4\n",
        ")\n",
        "\n",
        "int_test_ds = test_ds.map(\n",
        "    lambda x,y: ((text_vectorization(x)), y),\n",
        "    num_parallel_calls=4\n",
        ")"
      ],
      "metadata": {
        "id": "pzrU0rysijLq",
        "execution": {
          "iopub.status.busy": "2024-10-12T23:08:22.013155Z",
          "iopub.execute_input": "2024-10-12T23:08:22.013431Z",
          "iopub.status.idle": "2024-10-12T23:08:42.389739Z",
          "shell.execute_reply.started": "2024-10-12T23:08:22.013398Z",
          "shell.execute_reply": "2024-10-12T23:08:42.388492Z"
        },
        "trusted": true
      },
      "execution_count": 8,
      "outputs": []
    },
    {
      "cell_type": "markdown",
      "source": [
        "# ***The Transformer architecture (or the first half of it)***\n",
        "You see, this monster uses the idea of self-attention and multi-heads to enhance learning of semantic relationship of words. Mixing Embedding in its architecture, you create a very powerfull machine that could be only imagined in the late 80's: a computer capable of understand humans in natural language."
      ],
      "metadata": {
        "id": "iDq0j9KIgsS-"
      }
    },
    {
      "cell_type": "markdown",
      "source": [
        " ## Transformer encoder implemented as a subclassed Layer"
      ],
      "metadata": {
        "id": "b5H08cvU9w5k"
      }
    },
    {
      "cell_type": "code",
      "source": [
        "from tensorflow import keras\n",
        "from keras import layers\n",
        "import tensorflow as tf\n",
        "\n",
        "@keras.utils.register_keras_serializable()\n",
        "class TransformerEncoder(layers.Layer):\n",
        "  def __init__(self, embed_dim, dense_dim, num_heads, **kwargs):\n",
        "    super().__init__(**kwargs)\n",
        "    self.embed_dim = embed_dim # Size of input token vectors\n",
        "    self.dense_dim = dense_dim # Size of the inner denser layer\n",
        "    self.num_heads = num_heads # Number of attention heads\n",
        "\n",
        "    # Attention layer\n",
        "    self.attention = layers.MultiHeadAttention(\n",
        "        num_heads=num_heads,\n",
        "        key_dim=embed_dim\n",
        "    )\n",
        "\n",
        "    # Dense projections\n",
        "    self.dense_proj = keras.Sequential([\n",
        "        layers.Dense(dense_dim, activation=\"relu\",\n",
        "                     bias_regularizer=keras.regularizers.L2(1e-6),\n",
        "                     kernel_regularizer=keras.regularizers.L2(1e-6),\n",
        "                     activity_regularizer=keras.regularizers.L2(1e-7),\n",
        "                     kernel_initializer=keras.initializers.HeNormal(seed=123)),\n",
        "        layers.Dense(embed_dim)\n",
        "    ])\n",
        "\n",
        "    # Layer normalizations\n",
        "    self.layernomr_1 = layers.LayerNormalization()\n",
        "    self.layernorm_2 = layers.LayerNormalization()\n",
        "\n",
        "  def build(self, input_shape):\n",
        "    super(TransformerEncoder, self).build(input_shape) # Calling build from the superclass to initialize all sublayers. (Avoid warning)\n",
        "\n",
        "  def call(self, inputs, mask=None): # Model building\n",
        "    if mask is not None:\n",
        "      mask = mask[:, tf.newaxis, :]\n",
        "    attention_output = self.attention( # The self attention (key and query must have the same dims, but values can have different dim)\n",
        "        inputs, inputs, attention_mask=mask\n",
        "    )\n",
        "    proj_input = self.layernomr_1(inputs + attention_output) # Layer Normalization after attention mechanism and the residual connection\n",
        "    proj_output = self.dense_proj(proj_input) # The dense projection\n",
        "    return self.layernorm_2(proj_input + proj_output) # Another layer normalization after dense projection and the residual connection\n",
        "\n",
        "  def get_config(self): # Implementation of serialization to save the custom class\n",
        "    config = super().get_config()\n",
        "    config.update({\n",
        "        \"embed_dim\": self.embed_dim,\n",
        "        \"num_heads\": self.num_heads,\n",
        "        \"dense_dim\": self.dense_dim,\n",
        "    })\n",
        "    return config"
      ],
      "metadata": {
        "id": "IuufnSrYg2dc",
        "execution": {
          "iopub.status.busy": "2024-10-12T23:08:42.393055Z",
          "iopub.execute_input": "2024-10-12T23:08:42.393374Z",
          "iopub.status.idle": "2024-10-12T23:08:42.409147Z",
          "shell.execute_reply.started": "2024-10-12T23:08:42.393310Z",
          "shell.execute_reply": "2024-10-12T23:08:42.408241Z"
        },
        "trusted": true
      },
      "execution_count": 9,
      "outputs": []
    },
    {
      "cell_type": "markdown",
      "source": [
        "## Using the Transformer encoder for text classification (without the positional emdedding)"
      ],
      "metadata": {
        "id": "6gvQZmXOsIlm"
      }
    },
    {
      "cell_type": "code",
      "source": [
        "from keras.callbacks import LearningRateScheduler, ModelCheckpoint, EarlyStopping\n",
        "\n",
        "def scheduler(epoch, lr):\n",
        "  if epoch < 3:\n",
        "    return lr\n",
        "  else:\n",
        "    return lr * float(tf.math.exp(-0.1))"
      ],
      "metadata": {
        "id": "itd7sE5yC3pB",
        "execution": {
          "iopub.status.busy": "2024-10-12T23:08:42.410463Z",
          "iopub.execute_input": "2024-10-12T23:08:42.410815Z",
          "iopub.status.idle": "2024-10-12T23:08:42.421704Z",
          "shell.execute_reply.started": "2024-10-12T23:08:42.410775Z",
          "shell.execute_reply": "2024-10-12T23:08:42.420685Z"
        },
        "trusted": true
      },
      "execution_count": 10,
      "outputs": []
    },
    {
      "cell_type": "code",
      "source": [
        "vocab_size = 20000\n",
        "embed_dim = 256\n",
        "num_heads = 2\n",
        "dense_dim = 128\n",
        "\n",
        "inputs = layers.Input(shape=(None,), dtype=\"int64\")\n",
        "x = layers.Embedding(vocab_size, embed_dim,\n",
        "                     embeddings_regularizer=keras.regularizers.L1L2(1e-4),\n",
        "                     embeddings_initializer=keras.initializers.HeNormal(seed=1))(inputs)\n",
        "x = TransformerEncoder(embed_dim, dense_dim, num_heads)(x)\n",
        "x = layers.GlobalAveragePooling1D()(x) # Transformer returns full sequences, with need to reduce each sequence to a single vector for classification\n",
        "outputs = layers.Dense(1, activation=\"sigmoid\")(x)\n",
        "\n",
        "model = keras.Model(inputs,outputs)\n",
        "model.compile(optimizer=keras.optimizers.Adam(1e-3),\n",
        "              loss=\"binary_crossentropy\",\n",
        "              metrics=[\"accuracy\"])\n",
        "model.summary()"
      ],
      "metadata": {
        "id": "hfgcId7SsGKw",
        "outputId": "3bec9c95-3ed2-40e1-e1aa-70b19bd852b9",
        "execution": {
          "iopub.status.busy": "2024-10-12T23:08:42.422932Z",
          "iopub.execute_input": "2024-10-12T23:08:42.424055Z",
          "iopub.status.idle": "2024-10-12T23:08:42.614485Z",
          "shell.execute_reply.started": "2024-10-12T23:08:42.424006Z",
          "shell.execute_reply": "2024-10-12T23:08:42.613550Z"
        },
        "trusted": true,
        "colab": {
          "base_uri": "https://localhost:8080/",
          "height": 321
        }
      },
      "execution_count": 11,
      "outputs": [
        {
          "output_type": "display_data",
          "data": {
            "text/plain": [
              "\u001b[1mModel: \"functional_1\"\u001b[0m\n"
            ],
            "text/html": [
              "<pre style=\"white-space:pre;overflow-x:auto;line-height:normal;font-family:Menlo,'DejaVu Sans Mono',consolas,'Courier New',monospace\"><span style=\"font-weight: bold\">Model: \"functional_1\"</span>\n",
              "</pre>\n"
            ]
          },
          "metadata": {}
        },
        {
          "output_type": "display_data",
          "data": {
            "text/plain": [
              "┏━━━━━━━━━━━━━━━━━━━━━━━━━━━━━━━━━━━━━━┳━━━━━━━━━━━━━━━━━━━━━━━━━━━━━┳━━━━━━━━━━━━━━━━━┓\n",
              "┃\u001b[1m \u001b[0m\u001b[1mLayer (type)                        \u001b[0m\u001b[1m \u001b[0m┃\u001b[1m \u001b[0m\u001b[1mOutput Shape               \u001b[0m\u001b[1m \u001b[0m┃\u001b[1m \u001b[0m\u001b[1m        Param #\u001b[0m\u001b[1m \u001b[0m┃\n",
              "┡━━━━━━━━━━━━━━━━━━━━━━━━━━━━━━━━━━━━━━╇━━━━━━━━━━━━━━━━━━━━━━━━━━━━━╇━━━━━━━━━━━━━━━━━┩\n",
              "│ input_layer (\u001b[38;5;33mInputLayer\u001b[0m)             │ (\u001b[38;5;45mNone\u001b[0m, \u001b[38;5;45mNone\u001b[0m)                │               \u001b[38;5;34m0\u001b[0m │\n",
              "├──────────────────────────────────────┼─────────────────────────────┼─────────────────┤\n",
              "│ embedding (\u001b[38;5;33mEmbedding\u001b[0m)                │ (\u001b[38;5;45mNone\u001b[0m, \u001b[38;5;45mNone\u001b[0m, \u001b[38;5;34m256\u001b[0m)           │       \u001b[38;5;34m5,120,000\u001b[0m │\n",
              "├──────────────────────────────────────┼─────────────────────────────┼─────────────────┤\n",
              "│ transformer_encoder                  │ (\u001b[38;5;45mNone\u001b[0m, \u001b[38;5;45mNone\u001b[0m, \u001b[38;5;34m256\u001b[0m)           │         \u001b[38;5;34m593,024\u001b[0m │\n",
              "│ (\u001b[38;5;33mTransformerEncoder\u001b[0m)                 │                             │                 │\n",
              "├──────────────────────────────────────┼─────────────────────────────┼─────────────────┤\n",
              "│ global_average_pooling1d             │ (\u001b[38;5;45mNone\u001b[0m, \u001b[38;5;34m256\u001b[0m)                 │               \u001b[38;5;34m0\u001b[0m │\n",
              "│ (\u001b[38;5;33mGlobalAveragePooling1D\u001b[0m)             │                             │                 │\n",
              "├──────────────────────────────────────┼─────────────────────────────┼─────────────────┤\n",
              "│ dense_2 (\u001b[38;5;33mDense\u001b[0m)                      │ (\u001b[38;5;45mNone\u001b[0m, \u001b[38;5;34m1\u001b[0m)                   │             \u001b[38;5;34m257\u001b[0m │\n",
              "└──────────────────────────────────────┴─────────────────────────────┴─────────────────┘\n"
            ],
            "text/html": [
              "<pre style=\"white-space:pre;overflow-x:auto;line-height:normal;font-family:Menlo,'DejaVu Sans Mono',consolas,'Courier New',monospace\">┏━━━━━━━━━━━━━━━━━━━━━━━━━━━━━━━━━━━━━━┳━━━━━━━━━━━━━━━━━━━━━━━━━━━━━┳━━━━━━━━━━━━━━━━━┓\n",
              "┃<span style=\"font-weight: bold\"> Layer (type)                         </span>┃<span style=\"font-weight: bold\"> Output Shape                </span>┃<span style=\"font-weight: bold\">         Param # </span>┃\n",
              "┡━━━━━━━━━━━━━━━━━━━━━━━━━━━━━━━━━━━━━━╇━━━━━━━━━━━━━━━━━━━━━━━━━━━━━╇━━━━━━━━━━━━━━━━━┩\n",
              "│ input_layer (<span style=\"color: #0087ff; text-decoration-color: #0087ff\">InputLayer</span>)             │ (<span style=\"color: #00d7ff; text-decoration-color: #00d7ff\">None</span>, <span style=\"color: #00d7ff; text-decoration-color: #00d7ff\">None</span>)                │               <span style=\"color: #00af00; text-decoration-color: #00af00\">0</span> │\n",
              "├──────────────────────────────────────┼─────────────────────────────┼─────────────────┤\n",
              "│ embedding (<span style=\"color: #0087ff; text-decoration-color: #0087ff\">Embedding</span>)                │ (<span style=\"color: #00d7ff; text-decoration-color: #00d7ff\">None</span>, <span style=\"color: #00d7ff; text-decoration-color: #00d7ff\">None</span>, <span style=\"color: #00af00; text-decoration-color: #00af00\">256</span>)           │       <span style=\"color: #00af00; text-decoration-color: #00af00\">5,120,000</span> │\n",
              "├──────────────────────────────────────┼─────────────────────────────┼─────────────────┤\n",
              "│ transformer_encoder                  │ (<span style=\"color: #00d7ff; text-decoration-color: #00d7ff\">None</span>, <span style=\"color: #00d7ff; text-decoration-color: #00d7ff\">None</span>, <span style=\"color: #00af00; text-decoration-color: #00af00\">256</span>)           │         <span style=\"color: #00af00; text-decoration-color: #00af00\">593,024</span> │\n",
              "│ (<span style=\"color: #0087ff; text-decoration-color: #0087ff\">TransformerEncoder</span>)                 │                             │                 │\n",
              "├──────────────────────────────────────┼─────────────────────────────┼─────────────────┤\n",
              "│ global_average_pooling1d             │ (<span style=\"color: #00d7ff; text-decoration-color: #00d7ff\">None</span>, <span style=\"color: #00af00; text-decoration-color: #00af00\">256</span>)                 │               <span style=\"color: #00af00; text-decoration-color: #00af00\">0</span> │\n",
              "│ (<span style=\"color: #0087ff; text-decoration-color: #0087ff\">GlobalAveragePooling1D</span>)             │                             │                 │\n",
              "├──────────────────────────────────────┼─────────────────────────────┼─────────────────┤\n",
              "│ dense_2 (<span style=\"color: #0087ff; text-decoration-color: #0087ff\">Dense</span>)                      │ (<span style=\"color: #00d7ff; text-decoration-color: #00d7ff\">None</span>, <span style=\"color: #00af00; text-decoration-color: #00af00\">1</span>)                   │             <span style=\"color: #00af00; text-decoration-color: #00af00\">257</span> │\n",
              "└──────────────────────────────────────┴─────────────────────────────┴─────────────────┘\n",
              "</pre>\n"
            ]
          },
          "metadata": {}
        },
        {
          "output_type": "display_data",
          "data": {
            "text/plain": [
              "\u001b[1m Total params: \u001b[0m\u001b[38;5;34m5,713,281\u001b[0m (21.79 MB)\n"
            ],
            "text/html": [
              "<pre style=\"white-space:pre;overflow-x:auto;line-height:normal;font-family:Menlo,'DejaVu Sans Mono',consolas,'Courier New',monospace\"><span style=\"font-weight: bold\"> Total params: </span><span style=\"color: #00af00; text-decoration-color: #00af00\">5,713,281</span> (21.79 MB)\n",
              "</pre>\n"
            ]
          },
          "metadata": {}
        },
        {
          "output_type": "display_data",
          "data": {
            "text/plain": [
              "\u001b[1m Trainable params: \u001b[0m\u001b[38;5;34m5,713,281\u001b[0m (21.79 MB)\n"
            ],
            "text/html": [
              "<pre style=\"white-space:pre;overflow-x:auto;line-height:normal;font-family:Menlo,'DejaVu Sans Mono',consolas,'Courier New',monospace\"><span style=\"font-weight: bold\"> Trainable params: </span><span style=\"color: #00af00; text-decoration-color: #00af00\">5,713,281</span> (21.79 MB)\n",
              "</pre>\n"
            ]
          },
          "metadata": {}
        },
        {
          "output_type": "display_data",
          "data": {
            "text/plain": [
              "\u001b[1m Non-trainable params: \u001b[0m\u001b[38;5;34m0\u001b[0m (0.00 B)\n"
            ],
            "text/html": [
              "<pre style=\"white-space:pre;overflow-x:auto;line-height:normal;font-family:Menlo,'DejaVu Sans Mono',consolas,'Courier New',monospace\"><span style=\"font-weight: bold\"> Non-trainable params: </span><span style=\"color: #00af00; text-decoration-color: #00af00\">0</span> (0.00 B)\n",
              "</pre>\n"
            ]
          },
          "metadata": {}
        }
      ]
    },
    {
      "cell_type": "code",
      "source": [
        "callbacks = [LearningRateScheduler(scheduler),\n",
        "             ModelCheckpoint(\"transformer_encoder.keras\", monitor='val_loss', verbose=1, save_best_only=True),\n",
        "             EarlyStopping(monitor='val_loss', patience=7)]\n",
        "\n",
        "history = model.fit(int_train_ds,\n",
        "                    validation_data=int_val_ds,\n",
        "                    epochs=30,\n",
        "                    callbacks=callbacks)"
      ],
      "metadata": {
        "id": "Ptrk-ICstmhL",
        "outputId": "2a2c4738-01a0-4c1d-cb55-fd7a0f0639f7",
        "execution": {
          "iopub.status.busy": "2024-10-12T23:08:42.615761Z",
          "iopub.execute_input": "2024-10-12T23:08:42.616030Z",
          "iopub.status.idle": "2024-10-12T23:14:27.194269Z",
          "shell.execute_reply.started": "2024-10-12T23:08:42.615995Z",
          "shell.execute_reply": "2024-10-12T23:14:27.191568Z"
        },
        "trusted": true,
        "colab": {
          "base_uri": "https://localhost:8080/"
        }
      },
      "execution_count": 12,
      "outputs": [
        {
          "output_type": "stream",
          "name": "stdout",
          "text": [
            "Epoch 1/30\n",
            "\u001b[1m1874/1875\u001b[0m \u001b[32m━━━━━━━━━━━━━━━━━━━\u001b[0m\u001b[37m━\u001b[0m \u001b[1m0s\u001b[0m 26ms/step - accuracy: 0.7365 - loss: 0.8450\n",
            "Epoch 1: val_loss improved from inf to 0.48348, saving model to transformer_encoder.keras\n",
            "\u001b[1m1875/1875\u001b[0m \u001b[32m━━━━━━━━━━━━━━━━━━━━\u001b[0m\u001b[37m\u001b[0m \u001b[1m67s\u001b[0m 32ms/step - accuracy: 0.7366 - loss: 0.8447 - val_accuracy: 0.8737 - val_loss: 0.4835 - learning_rate: 0.0010\n",
            "Epoch 2/30\n",
            "\u001b[1m1875/1875\u001b[0m \u001b[32m━━━━━━━━━━━━━━━━━━━━\u001b[0m\u001b[37m\u001b[0m \u001b[1m0s\u001b[0m 27ms/step - accuracy: 0.8760 - loss: 0.4793\n",
            "Epoch 2: val_loss improved from 0.48348 to 0.46597, saving model to transformer_encoder.keras\n",
            "\u001b[1m1875/1875\u001b[0m \u001b[32m━━━━━━━━━━━━━━━━━━━━\u001b[0m\u001b[37m\u001b[0m \u001b[1m73s\u001b[0m 30ms/step - accuracy: 0.8760 - loss: 0.4793 - val_accuracy: 0.8830 - val_loss: 0.4660 - learning_rate: 0.0010\n",
            "Epoch 3/30\n",
            "\u001b[1m1874/1875\u001b[0m \u001b[32m━━━━━━━━━━━━━━━━━━━\u001b[0m\u001b[37m━\u001b[0m \u001b[1m0s\u001b[0m 27ms/step - accuracy: 0.8933 - loss: 0.4418\n",
            "Epoch 3: val_loss improved from 0.46597 to 0.45959, saving model to transformer_encoder.keras\n",
            "\u001b[1m1875/1875\u001b[0m \u001b[32m━━━━━━━━━━━━━━━━━━━━\u001b[0m\u001b[37m\u001b[0m \u001b[1m83s\u001b[0m 30ms/step - accuracy: 0.8933 - loss: 0.4418 - val_accuracy: 0.8824 - val_loss: 0.4596 - learning_rate: 0.0010\n",
            "Epoch 4/30\n",
            "\u001b[1m1874/1875\u001b[0m \u001b[32m━━━━━━━━━━━━━━━━━━━\u001b[0m\u001b[37m━\u001b[0m \u001b[1m0s\u001b[0m 27ms/step - accuracy: 0.9025 - loss: 0.4035\n",
            "Epoch 4: val_loss improved from 0.45959 to 0.44323, saving model to transformer_encoder.keras\n",
            "\u001b[1m1875/1875\u001b[0m \u001b[32m━━━━━━━━━━━━━━━━━━━━\u001b[0m\u001b[37m\u001b[0m \u001b[1m82s\u001b[0m 30ms/step - accuracy: 0.9025 - loss: 0.4035 - val_accuracy: 0.8888 - val_loss: 0.4432 - learning_rate: 9.0484e-04\n",
            "Epoch 5/30\n",
            "\u001b[1m1874/1875\u001b[0m \u001b[32m━━━━━━━━━━━━━━━━━━━\u001b[0m\u001b[37m━\u001b[0m \u001b[1m0s\u001b[0m 27ms/step - accuracy: 0.9149 - loss: 0.3700\n",
            "Epoch 5: val_loss improved from 0.44323 to 0.43364, saving model to transformer_encoder.keras\n",
            "\u001b[1m1875/1875\u001b[0m \u001b[32m━━━━━━━━━━━━━━━━━━━━\u001b[0m\u001b[37m\u001b[0m \u001b[1m87s\u001b[0m 33ms/step - accuracy: 0.9149 - loss: 0.3700 - val_accuracy: 0.8871 - val_loss: 0.4336 - learning_rate: 8.1873e-04\n",
            "Epoch 6/30\n",
            "\u001b[1m1875/1875\u001b[0m \u001b[32m━━━━━━━━━━━━━━━━━━━━\u001b[0m\u001b[37m\u001b[0m \u001b[1m0s\u001b[0m 27ms/step - accuracy: 0.9319 - loss: 0.3254\n",
            "Epoch 6: val_loss did not improve from 0.43364\n",
            "\u001b[1m1875/1875\u001b[0m \u001b[32m━━━━━━━━━━━━━━━━━━━━\u001b[0m\u001b[37m\u001b[0m \u001b[1m76s\u001b[0m 30ms/step - accuracy: 0.9319 - loss: 0.3254 - val_accuracy: 0.8834 - val_loss: 0.4544 - learning_rate: 7.4082e-04\n",
            "Epoch 7/30\n",
            "\u001b[1m1874/1875\u001b[0m \u001b[32m━━━━━━━━━━━━━━━━━━━\u001b[0m\u001b[37m━\u001b[0m \u001b[1m0s\u001b[0m 27ms/step - accuracy: 0.9441 - loss: 0.2981\n",
            "Epoch 7: val_loss did not improve from 0.43364\n",
            "\u001b[1m1875/1875\u001b[0m \u001b[32m━━━━━━━━━━━━━━━━━━━━\u001b[0m\u001b[37m\u001b[0m \u001b[1m82s\u001b[0m 30ms/step - accuracy: 0.9441 - loss: 0.2981 - val_accuracy: 0.8805 - val_loss: 0.4707 - learning_rate: 6.7032e-04\n",
            "Epoch 8/30\n",
            "\u001b[1m1874/1875\u001b[0m \u001b[32m━━━━━━━━━━━━━━━━━━━\u001b[0m\u001b[37m━\u001b[0m \u001b[1m0s\u001b[0m 27ms/step - accuracy: 0.9558 - loss: 0.2622\n",
            "Epoch 8: val_loss did not improve from 0.43364\n",
            "\u001b[1m1875/1875\u001b[0m \u001b[32m━━━━━━━━━━━━━━━━━━━━\u001b[0m\u001b[37m\u001b[0m \u001b[1m55s\u001b[0m 29ms/step - accuracy: 0.9558 - loss: 0.2622 - val_accuracy: 0.8759 - val_loss: 0.5053 - learning_rate: 6.0653e-04\n",
            "Epoch 9/30\n",
            "\u001b[1m1874/1875\u001b[0m \u001b[32m━━━━━━━━━━━━━━━━━━━\u001b[0m\u001b[37m━\u001b[0m \u001b[1m0s\u001b[0m 27ms/step - accuracy: 0.9618 - loss: 0.2482\n",
            "Epoch 9: val_loss did not improve from 0.43364\n",
            "\u001b[1m1875/1875\u001b[0m \u001b[32m━━━━━━━━━━━━━━━━━━━━\u001b[0m\u001b[37m\u001b[0m \u001b[1m56s\u001b[0m 30ms/step - accuracy: 0.9618 - loss: 0.2482 - val_accuracy: 0.8717 - val_loss: 0.5298 - learning_rate: 5.4881e-04\n",
            "Epoch 10/30\n",
            "\u001b[1m1874/1875\u001b[0m \u001b[32m━━━━━━━━━━━━━━━━━━━\u001b[0m\u001b[37m━\u001b[0m \u001b[1m0s\u001b[0m 27ms/step - accuracy: 0.9669 - loss: 0.2252\n",
            "Epoch 10: val_loss did not improve from 0.43364\n",
            "\u001b[1m1875/1875\u001b[0m \u001b[32m━━━━━━━━━━━━━━━━━━━━\u001b[0m\u001b[37m\u001b[0m \u001b[1m55s\u001b[0m 29ms/step - accuracy: 0.9669 - loss: 0.2251 - val_accuracy: 0.8750 - val_loss: 0.5321 - learning_rate: 4.9659e-04\n",
            "Epoch 11/30\n",
            "\u001b[1m1874/1875\u001b[0m \u001b[32m━━━━━━━━━━━━━━━━━━━\u001b[0m\u001b[37m━\u001b[0m \u001b[1m0s\u001b[0m 27ms/step - accuracy: 0.9750 - loss: 0.2006\n",
            "Epoch 11: val_loss did not improve from 0.43364\n",
            "\u001b[1m1875/1875\u001b[0m \u001b[32m━━━━━━━━━━━━━━━━━━━━\u001b[0m\u001b[37m\u001b[0m \u001b[1m88s\u001b[0m 33ms/step - accuracy: 0.9750 - loss: 0.2006 - val_accuracy: 0.8749 - val_loss: 0.5570 - learning_rate: 4.4933e-04\n",
            "Epoch 12/30\n",
            "\u001b[1m1874/1875\u001b[0m \u001b[32m━━━━━━━━━━━━━━━━━━━\u001b[0m\u001b[37m━\u001b[0m \u001b[1m0s\u001b[0m 27ms/step - accuracy: 0.9752 - loss: 0.1948\n",
            "Epoch 12: val_loss did not improve from 0.43364\n",
            "\u001b[1m1875/1875\u001b[0m \u001b[32m━━━━━━━━━━━━━━━━━━━━\u001b[0m\u001b[37m\u001b[0m \u001b[1m77s\u001b[0m 30ms/step - accuracy: 0.9752 - loss: 0.1948 - val_accuracy: 0.8735 - val_loss: 0.5668 - learning_rate: 4.0657e-04\n"
          ]
        }
      ]
    },
    {
      "cell_type": "code",
      "source": [
        "import matplotlib.pyplot as plt\n",
        "from keras.models import load_model\n",
        "import numpy as np\n",
        "\n",
        "model = load_model(\"transformer_encoder.keras\",\n",
        "                   custom_objects={\"TransformerEnconder\": TransformerEncoder})\n",
        "\n",
        "print(\"Accuracy:\")\n",
        "print(f\"loss: {np.average(history.history['loss']):.4f} - accuracy: {np.average(history.history['accuracy']) * 100:.2f}%\")\n",
        "\n",
        "print(\"Validation:\")\n",
        "scores = model.evaluate(int_val_ds, verbose=0)\n",
        "print(f'loss: {scores[0]:.4f} - accuracy: {scores[1]* 100:.2f}%')\n",
        "\n",
        "print(\"Test:\")\n",
        "scores = model.evaluate(int_test_ds, verbose=0)\n",
        "print(f'loss: {scores[0]:.4f} - accuracy: {scores[1]* 100:.2f}%')\n",
        "\n",
        "plt.plot(history.history['accuracy'])\n",
        "plt.plot(history.history['val_accuracy'])\n",
        "plt.title('Model Accuracy')\n",
        "plt.ylabel('accuracy')\n",
        "plt.xlabel('epochs')\n",
        "plt.legend(['train', 'valid'], loc='lower right')\n",
        "plt.show()\n",
        "\n",
        "print(\"\\n\")\n",
        "\n",
        "plt.plot(history.history['loss'])\n",
        "plt.plot(history.history['val_loss'])\n",
        "plt.title('Model Loss')\n",
        "plt.ylabel('loss')\n",
        "plt.xlabel('epochs')\n",
        "plt.legend(['train', 'valid'], loc='upper right')\n",
        "plt.show()"
      ],
      "metadata": {
        "id": "-23XWJkLt2_B",
        "outputId": "49936b8c-4591-419c-93bd-71ead88a1d5d",
        "execution": {
          "iopub.status.busy": "2024-10-12T23:14:27.195403Z",
          "iopub.status.idle": "2024-10-12T23:14:27.195847Z",
          "shell.execute_reply.started": "2024-10-12T23:14:27.195604Z",
          "shell.execute_reply": "2024-10-12T23:14:27.195629Z"
        },
        "trusted": true,
        "colab": {
          "base_uri": "https://localhost:8080/",
          "height": 1000
        }
      },
      "execution_count": 13,
      "outputs": [
        {
          "output_type": "stream",
          "name": "stdout",
          "text": [
            "Accuracy:\n",
            "loss: 0.3347 - accuracy: 92.79%\n",
            "Validation:\n",
            "loss: 0.4336 - accuracy: 88.71%\n",
            "Test:\n",
            "loss: 0.4323 - accuracy: 88.91%\n"
          ]
        },
        {
          "output_type": "display_data",
          "data": {
            "text/plain": [
              "<Figure size 640x480 with 1 Axes>"
            ],
            "image/png": "[encoded data removed]"
          },
          "metadata": {}
        },
        {
          "output_type": "stream",
          "name": "stdout",
          "text": [
            "\n",
            "\n"
          ]
        },
        {
          "output_type": "display_data",
          "data": {
            "text/plain": [
              "<Figure size 640x480 with 1 Axes>"
            ],
            "image/png": "[encoded data removed]"
          },
          "metadata": {}
        }
      ]
    },
    {
      "cell_type": "markdown",
      "source": [
        "## Implementing positional embedding as a subclassed layer"
      ],
      "metadata": {
        "id": "nyIp10Z0vTBM"
      }
    },
    {
      "cell_type": "code",
      "source": [
        "import keras.ops as ops\n",
        "\n",
        "@keras.utils.register_keras_serializable()\n",
        "class PositionalEmbedding(layers.Layer):\n",
        "  def __init__(self, sequence_length, input_dim, output_dim, **kwargs): # Sequence lenght need to be know in advance\n",
        "    super().__init__(**kwargs)\n",
        "    self.token_embeddings = layers.Embedding( # layer for token indices with the vocab size\n",
        "        input_dim=input_dim, output_dim=output_dim,\n",
        "        embeddings_regularizer=keras.regularizers.L1L2(1e-4),\n",
        "        embeddings_initializer=keras.initializers.HeNormal(seed=1)\n",
        "    )\n",
        "    self.position_embeddings = layers.Embedding( # layer for the token positions with the input sequence_length\n",
        "        input_dim=sequence_length, output_dim=output_dim,\n",
        "        embeddings_regularizer=keras.regularizers.L1L2(1e-4),\n",
        "        embeddings_initializer=keras.initializers.HeNormal(seed=1)\n",
        "    )\n",
        "    self.sequence_length = sequence_length\n",
        "    self.input_dim = input_dim\n",
        "    self.output_dim = output_dim\n",
        "\n",
        "  def build(self, input_shape):\n",
        "    super(PositionalEmbedding, self).build(input_shape) # Calling build from the superclass to initialize all sublayers. (Avoid warning)\n",
        "\n",
        "  def call(self, inputs):\n",
        "    length = tf.shape(inputs)[-1]\n",
        "    positions = tf.range(start=0, limit=length, delta=1)\n",
        "    embedded_tokens = self.token_embeddings(inputs)\n",
        "    embedded_positions = self.position_embeddings(positions)\n",
        "    return embedded_tokens + embedded_positions # Add vectors together\n",
        "\n",
        "  def compute_mask(self, inputs, mask=None): # The mask will get propagated by the framework\n",
        "    if mask is None:\n",
        "      return None\n",
        "    else:\n",
        "      return ops.not_equal(inputs, 0)\n",
        "\n",
        "  def get_config(self):\n",
        "    config = super().get_config()\n",
        "    config.update({\n",
        "        \"output_dim\": self.output_dim,\n",
        "        \"sequence_length\": self.sequence_length,\n",
        "        \"input_dim\": self.input_dim\n",
        "    })\n",
        "    return config"
      ],
      "metadata": {
        "id": "_9rqflolvSJq",
        "execution": {
          "iopub.status.busy": "2024-10-12T23:14:27.197244Z",
          "iopub.status.idle": "2024-10-12T23:14:27.197563Z",
          "shell.execute_reply.started": "2024-10-12T23:14:27.197390Z",
          "shell.execute_reply": "2024-10-12T23:14:27.197406Z"
        },
        "trusted": true
      },
      "execution_count": 14,
      "outputs": []
    },
    {
      "cell_type": "markdown",
      "source": [
        "## ***Now this is the (first half) CLASSIFICATION TRANSFORMER***"
      ],
      "metadata": {
        "id": "iTyjpe8qzbmq"
      }
    },
    {
      "cell_type": "code",
      "source": [
        "vocab_size = 20000\n",
        "sequence_length = 600\n",
        "embed_dim = 256\n",
        "num_heads = 2\n",
        "dense_dim = 128\n",
        "\n",
        "inputs = layers.Input(shape=(None,), dtype=\"int64\")\n",
        "x = PositionalEmbedding(sequence_length, vocab_size, embed_dim)(inputs) # Here is the difference\n",
        "x = TransformerEncoder(embed_dim, dense_dim, num_heads)(x)\n",
        "x = layers.GlobalAveragePooling1D()(x)\n",
        "outputs = layers.Dense(1, activation=\"sigmoid\")(x)\n",
        "\n",
        "model = keras.Model(inputs,outputs)\n",
        "model.compile(optimizer=\"adam\",\n",
        "              loss=\"binary_crossentropy\",\n",
        "              metrics=[\"accuracy\"])\n",
        "model.summary()"
      ],
      "metadata": {
        "id": "lZmPUP7EzlTS",
        "outputId": "0220078b-8594-4dec-f227-0e3fafaf450d",
        "execution": {
          "iopub.status.busy": "2024-10-12T23:14:27.198470Z",
          "iopub.status.idle": "2024-10-12T23:14:27.198759Z",
          "shell.execute_reply.started": "2024-10-12T23:14:27.198598Z",
          "shell.execute_reply": "2024-10-12T23:14:27.198614Z"
        },
        "trusted": true,
        "colab": {
          "base_uri": "https://localhost:8080/",
          "height": 337
        }
      },
      "execution_count": 15,
      "outputs": [
        {
          "output_type": "display_data",
          "data": {
            "text/plain": [
              "\u001b[1mModel: \"functional_4\"\u001b[0m\n"
            ],
            "text/html": [
              "<pre style=\"white-space:pre;overflow-x:auto;line-height:normal;font-family:Menlo,'DejaVu Sans Mono',consolas,'Courier New',monospace\"><span style=\"font-weight: bold\">Model: \"functional_4\"</span>\n",
              "</pre>\n"
            ]
          },
          "metadata": {}
        },
        {
          "output_type": "display_data",
          "data": {
            "text/plain": [
              "┏━━━━━━━━━━━━━━━━━━━━━━━━━━━━━━━━━━━━━━┳━━━━━━━━━━━━━━━━━━━━━━━━━━━━━┳━━━━━━━━━━━━━━━━━┓\n",
              "┃\u001b[1m \u001b[0m\u001b[1mLayer (type)                        \u001b[0m\u001b[1m \u001b[0m┃\u001b[1m \u001b[0m\u001b[1mOutput Shape               \u001b[0m\u001b[1m \u001b[0m┃\u001b[1m \u001b[0m\u001b[1m        Param #\u001b[0m\u001b[1m \u001b[0m┃\n",
              "┡━━━━━━━━━━━━━━━━━━━━━━━━━━━━━━━━━━━━━━╇━━━━━━━━━━━━━━━━━━━━━━━━━━━━━╇━━━━━━━━━━━━━━━━━┩\n",
              "│ input_layer_3 (\u001b[38;5;33mInputLayer\u001b[0m)           │ (\u001b[38;5;45mNone\u001b[0m, \u001b[38;5;45mNone\u001b[0m)                │               \u001b[38;5;34m0\u001b[0m │\n",
              "├──────────────────────────────────────┼─────────────────────────────┼─────────────────┤\n",
              "│ positional_embedding                 │ (\u001b[38;5;45mNone\u001b[0m, \u001b[38;5;45mNone\u001b[0m, \u001b[38;5;34m256\u001b[0m)           │       \u001b[38;5;34m5,273,600\u001b[0m │\n",
              "│ (\u001b[38;5;33mPositionalEmbedding\u001b[0m)                │                             │                 │\n",
              "├──────────────────────────────────────┼─────────────────────────────┼─────────────────┤\n",
              "│ transformer_encoder_1                │ (\u001b[38;5;45mNone\u001b[0m, \u001b[38;5;45mNone\u001b[0m, \u001b[38;5;34m256\u001b[0m)           │         \u001b[38;5;34m593,024\u001b[0m │\n",
              "│ (\u001b[38;5;33mTransformerEncoder\u001b[0m)                 │                             │                 │\n",
              "├──────────────────────────────────────┼─────────────────────────────┼─────────────────┤\n",
              "│ global_average_pooling1d_1           │ (\u001b[38;5;45mNone\u001b[0m, \u001b[38;5;34m256\u001b[0m)                 │               \u001b[38;5;34m0\u001b[0m │\n",
              "│ (\u001b[38;5;33mGlobalAveragePooling1D\u001b[0m)             │                             │                 │\n",
              "├──────────────────────────────────────┼─────────────────────────────┼─────────────────┤\n",
              "│ dense_7 (\u001b[38;5;33mDense\u001b[0m)                      │ (\u001b[38;5;45mNone\u001b[0m, \u001b[38;5;34m1\u001b[0m)                   │             \u001b[38;5;34m257\u001b[0m │\n",
              "└──────────────────────────────────────┴─────────────────────────────┴─────────────────┘\n"
            ],
            "text/html": [
              "<pre style=\"white-space:pre;overflow-x:auto;line-height:normal;font-family:Menlo,'DejaVu Sans Mono',consolas,'Courier New',monospace\">┏━━━━━━━━━━━━━━━━━━━━━━━━━━━━━━━━━━━━━━┳━━━━━━━━━━━━━━━━━━━━━━━━━━━━━┳━━━━━━━━━━━━━━━━━┓\n",
              "┃<span style=\"font-weight: bold\"> Layer (type)                         </span>┃<span style=\"font-weight: bold\"> Output Shape                </span>┃<span style=\"font-weight: bold\">         Param # </span>┃\n",
              "┡━━━━━━━━━━━━━━━━━━━━━━━━━━━━━━━━━━━━━━╇━━━━━━━━━━━━━━━━━━━━━━━━━━━━━╇━━━━━━━━━━━━━━━━━┩\n",
              "│ input_layer_3 (<span style=\"color: #0087ff; text-decoration-color: #0087ff\">InputLayer</span>)           │ (<span style=\"color: #00d7ff; text-decoration-color: #00d7ff\">None</span>, <span style=\"color: #00d7ff; text-decoration-color: #00d7ff\">None</span>)                │               <span style=\"color: #00af00; text-decoration-color: #00af00\">0</span> │\n",
              "├──────────────────────────────────────┼─────────────────────────────┼─────────────────┤\n",
              "│ positional_embedding                 │ (<span style=\"color: #00d7ff; text-decoration-color: #00d7ff\">None</span>, <span style=\"color: #00d7ff; text-decoration-color: #00d7ff\">None</span>, <span style=\"color: #00af00; text-decoration-color: #00af00\">256</span>)           │       <span style=\"color: #00af00; text-decoration-color: #00af00\">5,273,600</span> │\n",
              "│ (<span style=\"color: #0087ff; text-decoration-color: #0087ff\">PositionalEmbedding</span>)                │                             │                 │\n",
              "├──────────────────────────────────────┼─────────────────────────────┼─────────────────┤\n",
              "│ transformer_encoder_1                │ (<span style=\"color: #00d7ff; text-decoration-color: #00d7ff\">None</span>, <span style=\"color: #00d7ff; text-decoration-color: #00d7ff\">None</span>, <span style=\"color: #00af00; text-decoration-color: #00af00\">256</span>)           │         <span style=\"color: #00af00; text-decoration-color: #00af00\">593,024</span> │\n",
              "│ (<span style=\"color: #0087ff; text-decoration-color: #0087ff\">TransformerEncoder</span>)                 │                             │                 │\n",
              "├──────────────────────────────────────┼─────────────────────────────┼─────────────────┤\n",
              "│ global_average_pooling1d_1           │ (<span style=\"color: #00d7ff; text-decoration-color: #00d7ff\">None</span>, <span style=\"color: #00af00; text-decoration-color: #00af00\">256</span>)                 │               <span style=\"color: #00af00; text-decoration-color: #00af00\">0</span> │\n",
              "│ (<span style=\"color: #0087ff; text-decoration-color: #0087ff\">GlobalAveragePooling1D</span>)             │                             │                 │\n",
              "├──────────────────────────────────────┼─────────────────────────────┼─────────────────┤\n",
              "│ dense_7 (<span style=\"color: #0087ff; text-decoration-color: #0087ff\">Dense</span>)                      │ (<span style=\"color: #00d7ff; text-decoration-color: #00d7ff\">None</span>, <span style=\"color: #00af00; text-decoration-color: #00af00\">1</span>)                   │             <span style=\"color: #00af00; text-decoration-color: #00af00\">257</span> │\n",
              "└──────────────────────────────────────┴─────────────────────────────┴─────────────────┘\n",
              "</pre>\n"
            ]
          },
          "metadata": {}
        },
        {
          "output_type": "display_data",
          "data": {
            "text/plain": [
              "\u001b[1m Total params: \u001b[0m\u001b[38;5;34m5,866,881\u001b[0m (22.38 MB)\n"
            ],
            "text/html": [
              "<pre style=\"white-space:pre;overflow-x:auto;line-height:normal;font-family:Menlo,'DejaVu Sans Mono',consolas,'Courier New',monospace\"><span style=\"font-weight: bold\"> Total params: </span><span style=\"color: #00af00; text-decoration-color: #00af00\">5,866,881</span> (22.38 MB)\n",
              "</pre>\n"
            ]
          },
          "metadata": {}
        },
        {
          "output_type": "display_data",
          "data": {
            "text/plain": [
              "\u001b[1m Trainable params: \u001b[0m\u001b[38;5;34m5,866,881\u001b[0m (22.38 MB)\n"
            ],
            "text/html": [
              "<pre style=\"white-space:pre;overflow-x:auto;line-height:normal;font-family:Menlo,'DejaVu Sans Mono',consolas,'Courier New',monospace\"><span style=\"font-weight: bold\"> Trainable params: </span><span style=\"color: #00af00; text-decoration-color: #00af00\">5,866,881</span> (22.38 MB)\n",
              "</pre>\n"
            ]
          },
          "metadata": {}
        },
        {
          "output_type": "display_data",
          "data": {
            "text/plain": [
              "\u001b[1m Non-trainable params: \u001b[0m\u001b[38;5;34m0\u001b[0m (0.00 B)\n"
            ],
            "text/html": [
              "<pre style=\"white-space:pre;overflow-x:auto;line-height:normal;font-family:Menlo,'DejaVu Sans Mono',consolas,'Courier New',monospace\"><span style=\"font-weight: bold\"> Non-trainable params: </span><span style=\"color: #00af00; text-decoration-color: #00af00\">0</span> (0.00 B)\n",
              "</pre>\n"
            ]
          },
          "metadata": {}
        }
      ]
    },
    {
      "cell_type": "code",
      "source": [
        "callbacks = [LearningRateScheduler(scheduler),\n",
        "             ModelCheckpoint(\"full_transformer_encoder.keras\", monitor='val_loss', verbose=1, save_best_only=True),\n",
        "             EarlyStopping(monitor='val_loss', patience=7)]\n",
        "\n",
        "history = model.fit(int_train_ds,\n",
        "                    validation_data=int_val_ds,\n",
        "                    epochs=30,\n",
        "                    callbacks=callbacks)"
      ],
      "metadata": {
        "id": "t94_8yuWz7jg",
        "outputId": "1c1ada2f-9540-4b0d-9068-a5fdba133bc5",
        "execution": {
          "iopub.status.busy": "2024-10-12T23:14:27.200511Z",
          "iopub.status.idle": "2024-10-12T23:14:27.200838Z",
          "shell.execute_reply.started": "2024-10-12T23:14:27.200654Z",
          "shell.execute_reply": "2024-10-12T23:14:27.200680Z"
        },
        "trusted": true,
        "colab": {
          "base_uri": "https://localhost:8080/"
        }
      },
      "execution_count": 16,
      "outputs": [
        {
          "output_type": "stream",
          "name": "stdout",
          "text": [
            "Epoch 1/30\n",
            "\u001b[1m1875/1875\u001b[0m \u001b[32m━━━━━━━━━━━━━━━━━━━━\u001b[0m\u001b[37m\u001b[0m \u001b[1m0s\u001b[0m 28ms/step - accuracy: 0.6554 - loss: 1.0296\n",
            "Epoch 1: val_loss improved from inf to 0.50513, saving model to full_transformer_encoder.keras\n",
            "\u001b[1m1875/1875\u001b[0m \u001b[32m━━━━━━━━━━━━━━━━━━━━\u001b[0m\u001b[37m\u001b[0m \u001b[1m70s\u001b[0m 34ms/step - accuracy: 0.6554 - loss: 1.0295 - val_accuracy: 0.8561 - val_loss: 0.5051 - learning_rate: 0.0010\n",
            "Epoch 2/30\n",
            "\u001b[1m1875/1875\u001b[0m \u001b[32m━━━━━━━━━━━━━━━━━━━━\u001b[0m\u001b[37m\u001b[0m \u001b[1m0s\u001b[0m 28ms/step - accuracy: 0.8647 - loss: 0.4923\n",
            "Epoch 2: val_loss improved from 0.50513 to 0.49815, saving model to full_transformer_encoder.keras\n",
            "\u001b[1m1875/1875\u001b[0m \u001b[32m━━━━━━━━━━━━━━━━━━━━\u001b[0m\u001b[37m\u001b[0m \u001b[1m74s\u001b[0m 31ms/step - accuracy: 0.8647 - loss: 0.4923 - val_accuracy: 0.8673 - val_loss: 0.4982 - learning_rate: 0.0010\n",
            "Epoch 3/30\n",
            "\u001b[1m1874/1875\u001b[0m \u001b[32m━━━━━━━━━━━━━━━━━━━\u001b[0m\u001b[37m━\u001b[0m \u001b[1m0s\u001b[0m 27ms/step - accuracy: 0.8903 - loss: 0.4332\n",
            "Epoch 3: val_loss improved from 0.49815 to 0.46018, saving model to full_transformer_encoder.keras\n",
            "\u001b[1m1875/1875\u001b[0m \u001b[32m━━━━━━━━━━━━━━━━━━━━\u001b[0m\u001b[37m\u001b[0m \u001b[1m62s\u001b[0m 33ms/step - accuracy: 0.8903 - loss: 0.4332 - val_accuracy: 0.8846 - val_loss: 0.4602 - learning_rate: 0.0010\n",
            "Epoch 4/30\n",
            "\u001b[1m1875/1875\u001b[0m \u001b[32m━━━━━━━━━━━━━━━━━━━━\u001b[0m\u001b[37m\u001b[0m \u001b[1m0s\u001b[0m 28ms/step - accuracy: 0.9032 - loss: 0.3985\n",
            "Epoch 4: val_loss improved from 0.46018 to 0.44620, saving model to full_transformer_encoder.keras\n",
            "\u001b[1m1875/1875\u001b[0m \u001b[32m━━━━━━━━━━━━━━━━━━━━\u001b[0m\u001b[37m\u001b[0m \u001b[1m83s\u001b[0m 33ms/step - accuracy: 0.9032 - loss: 0.3985 - val_accuracy: 0.8856 - val_loss: 0.4462 - learning_rate: 9.0484e-04\n",
            "Epoch 5/30\n",
            "\u001b[1m1875/1875\u001b[0m \u001b[32m━━━━━━━━━━━━━━━━━━━━\u001b[0m\u001b[37m\u001b[0m \u001b[1m0s\u001b[0m 28ms/step - accuracy: 0.9136 - loss: 0.3774\n",
            "Epoch 5: val_loss improved from 0.44620 to 0.44490, saving model to full_transformer_encoder.keras\n",
            "\u001b[1m1875/1875\u001b[0m \u001b[32m━━━━━━━━━━━━━━━━━━━━\u001b[0m\u001b[37m\u001b[0m \u001b[1m62s\u001b[0m 33ms/step - accuracy: 0.9136 - loss: 0.3774 - val_accuracy: 0.8835 - val_loss: 0.4449 - learning_rate: 8.1873e-04\n",
            "Epoch 6/30\n",
            "\u001b[1m1875/1875\u001b[0m \u001b[32m━━━━━━━━━━━━━━━━━━━━\u001b[0m\u001b[37m\u001b[0m \u001b[1m0s\u001b[0m 28ms/step - accuracy: 0.9196 - loss: 0.3546\n",
            "Epoch 6: val_loss did not improve from 0.44490\n",
            "\u001b[1m1875/1875\u001b[0m \u001b[32m━━━━━━━━━━━━━━━━━━━━\u001b[0m\u001b[37m\u001b[0m \u001b[1m77s\u001b[0m 31ms/step - accuracy: 0.9196 - loss: 0.3546 - val_accuracy: 0.8814 - val_loss: 0.4472 - learning_rate: 7.4082e-04\n",
            "Epoch 7/30\n",
            "\u001b[1m1875/1875\u001b[0m \u001b[32m━━━━━━━━━━━━━━━━━━━━\u001b[0m\u001b[37m\u001b[0m \u001b[1m0s\u001b[0m 28ms/step - accuracy: 0.9308 - loss: 0.3303\n",
            "Epoch 7: val_loss did not improve from 0.44490\n",
            "\u001b[1m1875/1875\u001b[0m \u001b[32m━━━━━━━━━━━━━━━━━━━━\u001b[0m\u001b[37m\u001b[0m \u001b[1m87s\u001b[0m 33ms/step - accuracy: 0.9308 - loss: 0.3303 - val_accuracy: 0.8821 - val_loss: 0.4575 - learning_rate: 6.7032e-04\n",
            "Epoch 8/30\n",
            "\u001b[1m1875/1875\u001b[0m \u001b[32m━━━━━━━━━━━━━━━━━━━━\u001b[0m\u001b[37m\u001b[0m \u001b[1m0s\u001b[0m 28ms/step - accuracy: 0.9420 - loss: 0.2995\n",
            "Epoch 8: val_loss did not improve from 0.44490\n",
            "\u001b[1m1875/1875\u001b[0m \u001b[32m━━━━━━━━━━━━━━━━━━━━\u001b[0m\u001b[37m\u001b[0m \u001b[1m82s\u001b[0m 33ms/step - accuracy: 0.9420 - loss: 0.2995 - val_accuracy: 0.8797 - val_loss: 0.4703 - learning_rate: 6.0653e-04\n",
            "Epoch 9/30\n",
            "\u001b[1m1875/1875\u001b[0m \u001b[32m━━━━━━━━━━━━━━━━━━━━\u001b[0m\u001b[37m\u001b[0m \u001b[1m0s\u001b[0m 28ms/step - accuracy: 0.9527 - loss: 0.2724\n",
            "Epoch 9: val_loss did not improve from 0.44490\n",
            "\u001b[1m1875/1875\u001b[0m \u001b[32m━━━━━━━━━━━━━━━━━━━━\u001b[0m\u001b[37m\u001b[0m \u001b[1m57s\u001b[0m 31ms/step - accuracy: 0.9527 - loss: 0.2724 - val_accuracy: 0.8741 - val_loss: 0.4930 - learning_rate: 5.4881e-04\n",
            "Epoch 10/30\n",
            "\u001b[1m1875/1875\u001b[0m \u001b[32m━━━━━━━━━━━━━━━━━━━━\u001b[0m\u001b[37m\u001b[0m \u001b[1m0s\u001b[0m 28ms/step - accuracy: 0.9597 - loss: 0.2529\n",
            "Epoch 10: val_loss did not improve from 0.44490\n",
            "\u001b[1m1875/1875\u001b[0m \u001b[32m━━━━━━━━━━━━━━━━━━━━\u001b[0m\u001b[37m\u001b[0m \u001b[1m82s\u001b[0m 31ms/step - accuracy: 0.9597 - loss: 0.2529 - val_accuracy: 0.8739 - val_loss: 0.5224 - learning_rate: 4.9659e-04\n",
            "Epoch 11/30\n",
            "\u001b[1m1875/1875\u001b[0m \u001b[32m━━━━━━━━━━━━━━━━━━━━\u001b[0m\u001b[37m\u001b[0m \u001b[1m0s\u001b[0m 28ms/step - accuracy: 0.9657 - loss: 0.2331\n",
            "Epoch 11: val_loss did not improve from 0.44490\n",
            "\u001b[1m1875/1875\u001b[0m \u001b[32m━━━━━━━━━━━━━━━━━━━━\u001b[0m\u001b[37m\u001b[0m \u001b[1m82s\u001b[0m 31ms/step - accuracy: 0.9657 - loss: 0.2331 - val_accuracy: 0.8727 - val_loss: 0.5546 - learning_rate: 4.4933e-04\n",
            "Epoch 12/30\n",
            "\u001b[1m1875/1875\u001b[0m \u001b[32m━━━━━━━━━━━━━━━━━━━━\u001b[0m\u001b[37m\u001b[0m \u001b[1m0s\u001b[0m 28ms/step - accuracy: 0.9714 - loss: 0.2160\n",
            "Epoch 12: val_loss did not improve from 0.44490\n",
            "\u001b[1m1875/1875\u001b[0m \u001b[32m━━━━━━━━━━━━━━━━━━━━\u001b[0m\u001b[37m\u001b[0m \u001b[1m87s\u001b[0m 33ms/step - accuracy: 0.9714 - loss: 0.2160 - val_accuracy: 0.8704 - val_loss: 0.5549 - learning_rate: 4.0657e-04\n"
          ]
        }
      ]
    },
    {
      "cell_type": "code",
      "source": [
        "import matplotlib.pyplot as plt\n",
        "from keras.models import load_model\n",
        "import numpy as np\n",
        "\n",
        "model = load_model(\"full_transformer_encoder.keras\",\n",
        "                   custom_objects={\"TransformerEnconder\": TransformerEncoder,\n",
        "                                   \"PositionalEmbedding\": PositionalEmbedding})\n",
        "\n",
        "print(\"Accuracy:\")\n",
        "print(f\"loss: {np.average(history.history['loss']):.4f} - accuracy: {np.average(history.history['accuracy']) * 100:.2f}%\")\n",
        "\n",
        "print(\"Validation:\")\n",
        "scores = model.evaluate(int_val_ds, verbose=0)\n",
        "print(f'loss: {scores[0]:.4f} - accuracy: {scores[1]* 100:.2f}%')\n",
        "\n",
        "print(\"Test:\")\n",
        "scores = model.evaluate(int_test_ds, verbose=0)\n",
        "print(f'loss: {scores[0]:.4f} - accuracy: {scores[1]* 100:.2f}%')\n",
        "\n",
        "plt.plot(history.history['accuracy'])\n",
        "plt.plot(history.history['val_accuracy'])\n",
        "plt.title('Model Accuracy')\n",
        "plt.ylabel('accuracy')\n",
        "plt.xlabel('epochs')\n",
        "plt.legend(['train', 'valid'], loc='lower right')\n",
        "plt.show()\n",
        "\n",
        "print(\"\\n\")\n",
        "\n",
        "plt.plot(history.history['loss'])\n",
        "plt.plot(history.history['val_loss'])\n",
        "plt.title('Model Loss')\n",
        "plt.ylabel('loss')\n",
        "plt.xlabel('epochs')\n",
        "plt.legend(['train', 'valid'], loc='upper right')\n",
        "plt.show()"
      ],
      "metadata": {
        "id": "vxqvGtPD0Dxa",
        "execution": {
          "iopub.status.busy": "2024-10-12T23:14:27.202278Z",
          "iopub.status.idle": "2024-10-12T23:14:27.202710Z",
          "shell.execute_reply.started": "2024-10-12T23:14:27.202476Z",
          "shell.execute_reply": "2024-10-12T23:14:27.202499Z"
        },
        "trusted": true,
        "colab": {
          "base_uri": "https://localhost:8080/",
          "height": 1000
        },
        "outputId": "103349c7-d5af-4585-ea76-cdc0f5457296"
      },
      "execution_count": 17,
      "outputs": [
        {
          "output_type": "stream",
          "name": "stdout",
          "text": [
            "Accuracy:\n",
            "loss: 0.3611 - accuracy: 91.63%\n",
            "Validation:\n",
            "loss: 0.4449 - accuracy: 88.35%\n",
            "Test:\n",
            "loss: 0.4450 - accuracy: 88.66%\n"
          ]
        },
        {
          "output_type": "display_data",
          "data": {
            "text/plain": [
              "<Figure size 640x480 with 1 Axes>"
            ],
            "image/png": "[encoded data removed]"
          },
          "metadata": {}
        },
        {
          "output_type": "stream",
          "name": "stdout",
          "text": [
            "\n",
            "\n"
          ]
        },
        {
          "output_type": "display_data",
          "data": {
            "text/plain": [
              "<Figure size 640x480 with 1 Axes>"
            ],
            "image/png": "[encoded data removed]"
          },
          "metadata": {}
        }
      ]
    },
    {
      "cell_type": "markdown",
      "source": [
        "# ***Beyond text classification: Sequence-to-sequence learning***\n",
        "A sequence-to-sequence model takes a sequence as input and translate to another different sequence. Like:\n",
        "\n",
        "\n",
        "*  *Machine translation*\n",
        "*  *Text summarization*\n",
        "*  *Question answering*\n",
        "*  *Chatbots*\n",
        "*  *Text generation*\n",
        "\n"
      ],
      "metadata": {
        "id": "GrWCGhWLB4w2"
      }
    },
    {
      "cell_type": "markdown",
      "source": [
        "# ***A machine translation example***"
      ],
      "metadata": {
        "id": "ESNUym2SGNo1"
      }
    },
    {
      "cell_type": "markdown",
      "source": [
        "## Preparing the dataset: English-to-Spanish translation dataset"
      ],
      "metadata": {
        "id": "2hw-iskyG0NG"
      }
    },
    {
      "cell_type": "code",
      "source": [
        "base_dir = pathlib.Path(\"spa-eng\")\n",
        "\n",
        "# Verifies the directory existence\n",
        "if base_dir.exists() and base_dir.is_dir():\n",
        "    shutil.rmtree(base_dir)  # Destroys it"
      ],
      "metadata": {
        "execution": {
          "iopub.status.busy": "2024-10-12T23:14:27.204333Z",
          "iopub.status.idle": "2024-10-12T23:14:27.204661Z",
          "shell.execute_reply.started": "2024-10-12T23:14:27.204497Z",
          "shell.execute_reply": "2024-10-12T23:14:27.204514Z"
        },
        "trusted": true,
        "id": "IYF7V55pCmUs"
      },
      "execution_count": 40,
      "outputs": []
    },
    {
      "cell_type": "code",
      "source": [
        "!wget http://storage.googleapis.com/download.tensorflow.org/data/spa-eng.zip\n",
        "!unzip -q spa-eng.zip"
      ],
      "metadata": {
        "id": "IPkDwQn-CltM",
        "execution": {
          "iopub.status.busy": "2024-10-12T23:14:27.205802Z",
          "iopub.status.idle": "2024-10-12T23:14:27.206124Z",
          "shell.execute_reply.started": "2024-10-12T23:14:27.205931Z",
          "shell.execute_reply": "2024-10-12T23:14:27.205954Z"
        },
        "trusted": true,
        "colab": {
          "base_uri": "https://localhost:8080/"
        },
        "outputId": "4327ec91-f8b1-4f80-ed5a-cca6304e40c6"
      },
      "execution_count": 41,
      "outputs": [
        {
          "output_type": "stream",
          "name": "stdout",
          "text": [
            "--2024-10-13 01:17:21--  http://storage.googleapis.com/download.tensorflow.org/data/spa-eng.zip\n",
            "Resolving storage.googleapis.com (storage.googleapis.com)... 142.250.141.207, 74.125.137.207, 142.250.101.207, ...\n",
            "Connecting to storage.googleapis.com (storage.googleapis.com)|142.250.141.207|:80... connected.\n",
            "HTTP request sent, awaiting response... 200 OK\n",
            "Length: 2638744 (2.5M) [application/zip]\n",
            "Saving to: ‘spa-eng.zip’\n",
            "\n",
            "\rspa-eng.zip           0%[                    ]       0  --.-KB/s               \rspa-eng.zip         100%[===================>]   2.52M  --.-KB/s    in 0.008s  \n",
            "\n",
            "2024-10-13 01:17:21 (321 MB/s) - ‘spa-eng.zip’ saved [2638744/2638744]\n",
            "\n"
          ]
        }
      ]
    },
    {
      "cell_type": "code",
      "source": [
        "text_file = \"spa-eng/spa.txt\"\n",
        "with open(text_file) as f:\n",
        "  lines = f.read().split(\"\\n\")[:-1]\n",
        "text_pairs = []\n",
        "for line in lines: # Iterate over the lines in the file\n",
        "  english, spanish = line.split(\"\\t\") # Each line contains an English phrase and its Spanish translation, tab-separated\n",
        "  spanish = \"[start] \" + spanish + \" [end]\" # We add [start] and [end] to the Spanish sentence\n",
        "  text_pairs.append((english, spanish))"
      ],
      "metadata": {
        "id": "s-MdnV65HLZB",
        "execution": {
          "iopub.status.busy": "2024-10-12T23:14:27.207316Z",
          "iopub.status.idle": "2024-10-12T23:14:27.207672Z",
          "shell.execute_reply.started": "2024-10-12T23:14:27.207493Z",
          "shell.execute_reply": "2024-10-12T23:14:27.207518Z"
        },
        "trusted": true
      },
      "execution_count": 42,
      "outputs": []
    },
    {
      "cell_type": "markdown",
      "source": [
        "## Shuffle into usual training, validation and testing sets"
      ],
      "metadata": {
        "id": "ZOX8ya30H3q5"
      }
    },
    {
      "cell_type": "code",
      "source": [
        "import random\n",
        "random.shuffle(text_pairs)\n",
        "num_val_samples = int(0.15 * len(text_pairs))\n",
        "num_train_samples = len(text_pairs) - 2 * num_val_samples\n",
        "\n",
        "train_pairs = text_pairs[:num_train_samples] # Goes from the first to the num_train_sample position\n",
        "val_pairs = text_pairs[num_train_samples: num_train_samples + num_val_samples] # Goes from num_train_sample to the sum of num_train and num_val\n",
        "test_pairs = text_pairs[num_train_samples + num_val_samples:] # From num_val to end\n",
        "\n",
        "print(f\"{len(text_pairs)} total pairs\")\n",
        "print(f\"{len(train_pairs)} training pairs\")\n",
        "print(f\"{len(val_pairs)} validation pairs\")\n",
        "print(f\"{len(test_pairs)} test pairs\")"
      ],
      "metadata": {
        "id": "dl1zrwUHH2c-",
        "execution": {
          "iopub.status.busy": "2024-10-12T23:14:27.209249Z",
          "iopub.status.idle": "2024-10-12T23:14:27.209634Z",
          "shell.execute_reply.started": "2024-10-12T23:14:27.209432Z",
          "shell.execute_reply": "2024-10-12T23:14:27.209459Z"
        },
        "trusted": true,
        "colab": {
          "base_uri": "https://localhost:8080/"
        },
        "outputId": "c44475d0-07c7-4aa2-9e4b-f957e05b3c96"
      },
      "execution_count": 43,
      "outputs": [
        {
          "output_type": "stream",
          "name": "stdout",
          "text": [
            "118964 total pairs\n",
            "83276 training pairs\n",
            "17844 validation pairs\n",
            "17844 test pairs\n"
          ]
        }
      ]
    },
    {
      "cell_type": "code",
      "source": [
        "import tensorflow as tf\n",
        "from keras import layers\n",
        "import string\n",
        "import re\n",
        "\n",
        "strip_chars = string.punctuation + \"¿\" # Adds the '¿' character to punctuation for striping\n",
        "\n",
        "# Eliminates '[]' from the punctuation\n",
        "strip_chars = strip_chars.replace(\"[\",\"\")\n",
        "strip_chars = strip_chars.replace(\"]\",\"\")\n",
        "\n",
        "def custom_standardization(input_string):\n",
        "  lowercase = tf.strings.lower(input_string)\n",
        "  return tf.strings.regex_replace(lowercase, f'[{re.escape(strip_chars)}]', '') # Replaces the entire punctuation with '' for striping\n",
        "\n",
        "vocab_size = 15000\n",
        "sequence_length = 20\n",
        "\n",
        "source_vectorization = layers.TextVectorization( # English\n",
        "    max_tokens=vocab_size,\n",
        "    output_mode=\"int\",\n",
        "    output_sequence_length=sequence_length,\n",
        "    )\n",
        "\n",
        "target_vectorization = layers.TextVectorization( # Spanish\n",
        "    max_tokens=vocab_size,\n",
        "    output_mode=\"int\",\n",
        "    output_sequence_length=sequence_length + 1, # The addition of [start] and [end] in input and output, respectively\n",
        "    standardize = custom_standardization,\n",
        "    )\n",
        "\n",
        "train_english_text = [pair[0] for pair in train_pairs]\n",
        "train_spanish_text = [pair[1] for pair in train_pairs]\n",
        "\n",
        "source_vectorization.adapt(train_english_text)\n",
        "target_vectorization.adapt(train_spanish_text)"
      ],
      "metadata": {
        "id": "Fk18gUiaJQJ8",
        "execution": {
          "iopub.status.busy": "2024-10-12T23:14:27.210886Z",
          "iopub.status.idle": "2024-10-12T23:14:27.211208Z",
          "shell.execute_reply.started": "2024-10-12T23:14:27.211025Z",
          "shell.execute_reply": "2024-10-12T23:14:27.211049Z"
        },
        "trusted": true
      },
      "execution_count": 44,
      "outputs": []
    },
    {
      "cell_type": "code",
      "source": [
        "batch_size = 32\n",
        "\n",
        "def format_dataset(eng, spa):\n",
        "  eng = source_vectorization(eng)\n",
        "  spa = target_vectorization(spa)\n",
        "  return ({\n",
        "      \"english\": eng,\n",
        "      \"spanish\": spa[:, :-1], # The tensor is the shape of (64, 20), and we wanna remove the las word of sentence, [end]\n",
        "  }, spa[:, 1:]) # The target Spanish is one step ahead. Both are still the same lenght (20 words)\n",
        "\n",
        "def make_dataset(pairs):\n",
        "  eng_texts, spa_texts = zip(*pairs)\n",
        "  eng_texts = list(eng_texts)\n",
        "  spa_texts = list(spa_texts)\n",
        "\n",
        "  dataset = tf.data.Dataset.from_tensor_slices((eng_texts, spa_texts)) # Put the data in a efficient generator structure\n",
        "  dataset = dataset.batch(batch_size)\n",
        "  dataset = dataset.map(format_dataset, num_parallel_calls=4)\n",
        "\n",
        "  return dataset.shuffle(2048).prefetch(16).cache() # Speed up preprocessing with caching\n",
        "\n",
        "train_ds = make_dataset(train_pairs)\n",
        "val_ds = make_dataset(val_pairs)"
      ],
      "metadata": {
        "id": "ssnQsYvMUGXW",
        "execution": {
          "iopub.status.busy": "2024-10-12T23:14:27.212685Z",
          "iopub.status.idle": "2024-10-12T23:14:27.212978Z",
          "shell.execute_reply.started": "2024-10-12T23:14:27.212818Z",
          "shell.execute_reply": "2024-10-12T23:14:27.212834Z"
        },
        "trusted": true
      },
      "execution_count": 45,
      "outputs": []
    },
    {
      "cell_type": "code",
      "source": [
        "for inputs, targets in train_ds.take(1):\n",
        "    print(f'inputs[\"english\"].shape: {inputs[\"english\"].shape}')\n",
        "    print(f'inputs[\"spanish\"].shape: {inputs[\"spanish\"].shape}')\n",
        "    print(f\"targets.shape: {targets.shape}\")"
      ],
      "metadata": {
        "id": "YkZSJQpnjo5a",
        "execution": {
          "iopub.status.busy": "2024-10-12T23:14:27.214017Z",
          "iopub.status.idle": "2024-10-12T23:14:27.214470Z",
          "shell.execute_reply.started": "2024-10-12T23:14:27.214200Z",
          "shell.execute_reply": "2024-10-12T23:14:27.214233Z"
        },
        "trusted": true,
        "colab": {
          "base_uri": "https://localhost:8080/"
        },
        "outputId": "c11cbb4c-3b1e-4936-8f5f-e9957553a3f5"
      },
      "execution_count": 46,
      "outputs": [
        {
          "output_type": "stream",
          "name": "stdout",
          "text": [
            "inputs[\"english\"].shape: (32, 20)\n",
            "inputs[\"spanish\"].shape: (32, 20)\n",
            "targets.shape: (32, 20)\n"
          ]
        }
      ]
    },
    {
      "cell_type": "markdown",
      "source": [
        "## Sequence-to-sequence learning with Transformer\n",
        "\n",
        "Now we'll build the second parte that creates the Transformer architecture, the *Transformer decoder*"
      ],
      "metadata": {
        "id": "dmmIvB1nkmM5"
      }
    },
    {
      "cell_type": "code",
      "source": [
        "@keras.utils.register_keras_serializable()\n",
        "class TransformerDecoder(layers.Layer):\n",
        "  def __init__(self, embed_dim, dense_dim, num_heads, **kwargs):\n",
        "    super().__init__(**kwargs)\n",
        "    self.embed_dim = embed_dim\n",
        "    self.dense_dim = dense_dim\n",
        "    self.num_heads = num_heads\n",
        "    self.attention_1 = layers.MultiHeadAttention(\n",
        "        num_heads=num_heads, key_dim=embed_dim\n",
        "    )\n",
        "    self.attention_2 = layers.MultiHeadAttention(\n",
        "        num_heads=num_heads, key_dim=embed_dim\n",
        "    )\n",
        "    self.dense_proj = keras.Sequential(\n",
        "        [layers.Dense(dense_dim, activation='relu',\n",
        "                     bias_regularizer=keras.regularizers.L2(1e-5),\n",
        "                     kernel_regularizer=keras.regularizers.L2(1e-5),\n",
        "                     activity_regularizer=keras.regularizers.L2(1e-5),\n",
        "                     kernel_initializer=keras.initializers.HeNormal(seed=123)),\n",
        "         layers.Dense(embed_dim)]\n",
        "    )\n",
        "    self.layernorm_1 = layers.LayerNormalization()\n",
        "    self.layernorm_2 = layers.LayerNormalization()\n",
        "    self.layernorm_3 = layers.LayerNormalization()\n",
        "    self.supports_masking = True # It ensures that the layer will propagate its input mask to its outputs\n",
        "\n",
        "    def build(self, input_shape):\n",
        "      super(TransformerDecoder, self).build(input_shape) # Calling build from the superclass to initialize all sublayers. (Avoid warning)\n",
        "\n",
        "  def get_causal_attention_mask(self, inputs):\n",
        "    input_shape = tf.shape(inputs)\n",
        "    batch_size, sequence_length, = input_shape[0], input_shape[1]\n",
        "\n",
        "    i = tf.range(sequence_length)[:, tf.newaxis] # Creates a new tensor with shape (sequence_length, 1)\n",
        "    j = tf.range(sequence_length) # Creates a new tensor with shape (sequence_length)\n",
        "\n",
        "    mask = tf.cast(i >= j, dtype=\"int32\") # Compares i and j, returning a new matrix with shape(sequence_length, sequence_length)\n",
        "    mask = tf.reshape(mask, (1, input_shape[1], input_shape[1])) # Reshape into a 3D tensor with shape (1, sequence_length, sequence_length)\n",
        "\n",
        "    mult = tf.concat(\n",
        "        [tf.expand_dims(batch_size, -1), # Expands batch size in one dimension, with shape (1,) and content [batch_size] (1D)\n",
        "         tf.constant([1,1], dtype=tf.int32)], # Creates a tensor [1, 1] with shape (2,), (1D)\n",
        "         axis=0 # Concatenates the vectors, creating a new vector [batch_size, 1, 1] with shape (3,) and 1D\n",
        "    )\n",
        "    return tf.tile(mask, mult) # Input: the tensor you wanna replicate.\n",
        "                               # Multiples: a list or tensor that specifies how many times the input should be replicated along each dimension.\n",
        "                               # Note: the multiples must have the same number of dimensions as the input tensor.\n",
        "                               # In another words: input.shape == len(multiples)\n",
        "                               # In that case, input = (1, sequence_length, sequence_length) and multiplies = [batch_size, 1, 1]\n",
        "\n",
        "  def call(self, inputs, encoder_outputs, mask=None):\n",
        "    causal_mask = self.get_causal_attention_mask(inputs)\n",
        "    if mask is not None:\n",
        "      padding_mask = tf.cast(\n",
        "          mask[:, tf.newaxis, :], dtype=\"int32\" # Adds a new dimension to replicate over num of attention heads\n",
        "                                                # That means: (batch_size, 1, seq_length) == (batch_size, num_heads, seq_length)\n",
        "                                                # Note: this mask applies only on the S (source) during cross-attention\n",
        "      )\n",
        "      padding_mask = tf.minimum(padding_mask, causal_mask) # For each position, returns the minimum between the padding and causal masks by broadcasting\n",
        "    else:\n",
        "        padding_mask = None\n",
        "\n",
        "    attention_output_1 = self.attention_1( # Self-attention\n",
        "        query=inputs,\n",
        "        value=inputs,\n",
        "        key=inputs,\n",
        "        attention_mask=causal_mask, # Causal mask to avoid cheating\n",
        "    )\n",
        "    attention_output_1 = self.layernorm_1(inputs + attention_output_1)\n",
        "    attention_output_2 = self.attention_2( # Cross-attention\n",
        "        query=attention_output_1, # The Target generated until now\n",
        "        value=encoder_outputs, # The Source from encoder\n",
        "        key=encoder_outputs, # The Source from encoder\n",
        "        attention_mask=padding_mask, # Padding mask applied over the Source to avoid junk into the query x key\n",
        "    )\n",
        "    attention_output_2 = self.layernorm_2(\n",
        "        attention_output_1 + attention_output_2\n",
        "    )\n",
        "    proj_output = self.dense_proj(attention_output_2)\n",
        "\n",
        "    return self.layernorm_3(attention_output_2 + proj_output)\n",
        "\n",
        "  def get_config(self): # Implementation of serialization to save the custom class\n",
        "    config = super().get_config()\n",
        "    config.update({\n",
        "        \"embed_dim\": self.embed_dim,\n",
        "        \"num_heads\": self.num_heads,\n",
        "        \"dense_dim\": self.dense_dim,\n",
        "    })\n",
        "    return config"
      ],
      "metadata": {
        "id": "B_8rMMJAjxVI",
        "execution": {
          "iopub.status.busy": "2024-10-12T23:14:27.216024Z",
          "iopub.status.idle": "2024-10-12T23:14:27.216484Z",
          "shell.execute_reply.started": "2024-10-12T23:14:27.216204Z",
          "shell.execute_reply": "2024-10-12T23:14:27.216235Z"
        },
        "trusted": true
      },
      "execution_count": 47,
      "outputs": []
    },
    {
      "cell_type": "markdown",
      "source": [
        "## End-to-end Transformer"
      ],
      "metadata": {
        "id": "ThPqKIAPr6bj"
      }
    },
    {
      "cell_type": "code",
      "source": [
        "embed_dim = 256\n",
        "dense_dim = 2048\n",
        "num_heads = 8\n",
        "\n",
        "encoder_inputs = keras.Input(shape=(None,), dtype=\"int64\", name=\"english\")\n",
        "x = PositionalEmbedding(sequence_length, vocab_size, embed_dim)(encoder_inputs)\n",
        "encoder_outputs = TransformerEncoder(embed_dim, dense_dim, num_heads)(x) # Encode the soure sentence\n",
        "\n",
        "decoder_inputs = keras.Input(shape=(None,), dtype=\"int64\", name=\"spanish\")\n",
        "x = PositionalEmbedding(sequence_length, vocab_size, embed_dim)(decoder_inputs)\n",
        "x = TransformerDecoder(embed_dim, dense_dim, num_heads)(x, encoder_outputs) # Encode the target sentence and combine it with the encoded source sentence.\n",
        "decoder_outputs = layers.Dense(vocab_size, activation=\"softmax\")(x) # Predict a word for each output position\n",
        "\n",
        "transformer = keras.Model([encoder_inputs, decoder_inputs], decoder_outputs)"
      ],
      "metadata": {
        "id": "ANUPQxsCsC5G",
        "execution": {
          "iopub.status.busy": "2024-10-12T23:14:27.217759Z",
          "iopub.status.idle": "2024-10-12T23:14:27.218174Z",
          "shell.execute_reply.started": "2024-10-12T23:14:27.217936Z",
          "shell.execute_reply": "2024-10-12T23:14:27.217959Z"
        },
        "trusted": true
      },
      "execution_count": 48,
      "outputs": []
    },
    {
      "cell_type": "markdown",
      "source": [
        "## Training the sequence-tosequence Transformer"
      ],
      "metadata": {
        "id": "rqieYwmdugOU"
      }
    },
    {
      "cell_type": "code",
      "source": [
        "callbacks = [LearningRateScheduler(scheduler),\n",
        "             ModelCheckpoint(\"end-to-end_transformer.keras\", monitor='val_loss', verbose=1, save_best_only=True),\n",
        "             EarlyStopping(monitor='val_loss', patience=7)]\n",
        "\n",
        "transformer.compile(\n",
        "    optimizer=keras.optimizers.Adam(1e-3),\n",
        "    loss=\"sparse_categorical_crossentropy\",\n",
        "    metrics=[\"accuracy\"]\n",
        ")\n",
        "\n",
        "history = transformer.fit(train_ds, epochs=30, validation_data=val_ds, callbacks=callbacks)"
      ],
      "metadata": {
        "id": "7Buwv__yuk01",
        "execution": {
          "iopub.status.busy": "2024-10-12T23:14:27.219181Z",
          "iopub.status.idle": "2024-10-12T23:14:27.219686Z",
          "shell.execute_reply.started": "2024-10-12T23:14:27.219421Z",
          "shell.execute_reply": "2024-10-12T23:14:27.219447Z"
        },
        "trusted": true,
        "colab": {
          "base_uri": "https://localhost:8080/"
        },
        "outputId": "d5aca972-8a6c-4212-dfc6-e6badaa06a65"
      },
      "execution_count": 49,
      "outputs": [
        {
          "output_type": "stream",
          "name": "stdout",
          "text": [
            "Epoch 1/30\n",
            "\u001b[1m2601/2603\u001b[0m \u001b[32m━━━━━━━━━━━━━━━━━━━\u001b[0m\u001b[37m━\u001b[0m \u001b[1m0s\u001b[0m 23ms/step - accuracy: 0.7003 - loss: 2.8508\n",
            "Epoch 1: val_loss improved from inf to 1.77601, saving model to end-to-end_transformer.keras\n",
            "\u001b[1m2603/2603\u001b[0m \u001b[32m━━━━━━━━━━━━━━━━━━━━\u001b[0m\u001b[37m\u001b[0m \u001b[1m85s\u001b[0m 28ms/step - accuracy: 0.7003 - loss: 2.8501 - val_accuracy: 0.7523 - val_loss: 1.7760 - learning_rate: 0.0010\n",
            "Epoch 2/30\n",
            "\u001b[1m2602/2603\u001b[0m \u001b[32m━━━━━━━━━━━━━━━━━━━\u001b[0m\u001b[37m━\u001b[0m \u001b[1m0s\u001b[0m 22ms/step - accuracy: 0.7629 - loss: 1.7045\n",
            "Epoch 2: val_loss improved from 1.77601 to 1.45740, saving model to end-to-end_transformer.keras\n",
            "\u001b[1m2603/2603\u001b[0m \u001b[32m━━━━━━━━━━━━━━━━━━━━\u001b[0m\u001b[37m\u001b[0m \u001b[1m64s\u001b[0m 25ms/step - accuracy: 0.7629 - loss: 1.7044 - val_accuracy: 0.7953 - val_loss: 1.4574 - learning_rate: 0.0010\n",
            "Epoch 3/30\n",
            "\u001b[1m2602/2603\u001b[0m \u001b[32m━━━━━━━━━━━━━━━━━━━\u001b[0m\u001b[37m━\u001b[0m \u001b[1m0s\u001b[0m 22ms/step - accuracy: 0.8032 - loss: 1.3933\n",
            "Epoch 3: val_loss improved from 1.45740 to 1.29458, saving model to end-to-end_transformer.keras\n",
            "\u001b[1m2603/2603\u001b[0m \u001b[32m━━━━━━━━━━━━━━━━━━━━\u001b[0m\u001b[37m\u001b[0m \u001b[1m66s\u001b[0m 25ms/step - accuracy: 0.8032 - loss: 1.3932 - val_accuracy: 0.8234 - val_loss: 1.2946 - learning_rate: 0.0010\n",
            "Epoch 4/30\n",
            "\u001b[1m2602/2603\u001b[0m \u001b[32m━━━━━━━━━━━━━━━━━━━\u001b[0m\u001b[37m━\u001b[0m \u001b[1m0s\u001b[0m 22ms/step - accuracy: 0.8312 - loss: 1.1783\n",
            "Epoch 4: val_loss improved from 1.29458 to 1.19495, saving model to end-to-end_transformer.keras\n",
            "\u001b[1m2603/2603\u001b[0m \u001b[32m━━━━━━━━━━━━━━━━━━━━\u001b[0m\u001b[37m\u001b[0m \u001b[1m70s\u001b[0m 27ms/step - accuracy: 0.8312 - loss: 1.1782 - val_accuracy: 0.8371 - val_loss: 1.1949 - learning_rate: 9.0484e-04\n",
            "Epoch 5/30\n",
            "\u001b[1m2601/2603\u001b[0m \u001b[32m━━━━━━━━━━━━━━━━━━━\u001b[0m\u001b[37m━\u001b[0m \u001b[1m0s\u001b[0m 23ms/step - accuracy: 0.8493 - loss: 1.0370\n",
            "Epoch 5: val_loss improved from 1.19495 to 1.14209, saving model to end-to-end_transformer.keras\n",
            "\u001b[1m2603/2603\u001b[0m \u001b[32m━━━━━━━━━━━━━━━━━━━━\u001b[0m\u001b[37m\u001b[0m \u001b[1m82s\u001b[0m 27ms/step - accuracy: 0.8493 - loss: 1.0370 - val_accuracy: 0.8440 - val_loss: 1.1421 - learning_rate: 8.1873e-04\n",
            "Epoch 6/30\n",
            "\u001b[1m2603/2603\u001b[0m \u001b[32m━━━━━━━━━━━━━━━━━━━━\u001b[0m\u001b[37m\u001b[0m \u001b[1m0s\u001b[0m 22ms/step - accuracy: 0.8627 - loss: 0.9388\n",
            "Epoch 6: val_loss improved from 1.14209 to 1.10331, saving model to end-to-end_transformer.keras\n",
            "\u001b[1m2603/2603\u001b[0m \u001b[32m━━━━━━━━━━━━━━━━━━━━\u001b[0m\u001b[37m\u001b[0m \u001b[1m63s\u001b[0m 24ms/step - accuracy: 0.8627 - loss: 0.9388 - val_accuracy: 0.8489 - val_loss: 1.1033 - learning_rate: 7.4082e-04\n",
            "Epoch 7/30\n",
            "\u001b[1m2601/2603\u001b[0m \u001b[32m━━━━━━━━━━━━━━━━━━━\u001b[0m\u001b[37m━\u001b[0m \u001b[1m0s\u001b[0m 23ms/step - accuracy: 0.8731 - loss: 0.8615\n",
            "Epoch 7: val_loss improved from 1.10331 to 1.06815, saving model to end-to-end_transformer.keras\n",
            "\u001b[1m2603/2603\u001b[0m \u001b[32m━━━━━━━━━━━━━━━━━━━━\u001b[0m\u001b[37m\u001b[0m \u001b[1m88s\u001b[0m 27ms/step - accuracy: 0.8732 - loss: 0.8615 - val_accuracy: 0.8527 - val_loss: 1.0682 - learning_rate: 6.7032e-04\n",
            "Epoch 8/30\n",
            "\u001b[1m2601/2603\u001b[0m \u001b[32m━━━━━━━━━━━━━━━━━━━\u001b[0m\u001b[37m━\u001b[0m \u001b[1m0s\u001b[0m 22ms/step - accuracy: 0.8821 - loss: 0.7973\n",
            "Epoch 8: val_loss improved from 1.06815 to 1.04263, saving model to end-to-end_transformer.keras\n",
            "\u001b[1m2603/2603\u001b[0m \u001b[32m━━━━━━━━━━━━━━━━━━━━\u001b[0m\u001b[37m\u001b[0m \u001b[1m63s\u001b[0m 24ms/step - accuracy: 0.8821 - loss: 0.7973 - val_accuracy: 0.8557 - val_loss: 1.0426 - learning_rate: 6.0653e-04\n",
            "Epoch 9/30\n",
            "\u001b[1m2602/2603\u001b[0m \u001b[32m━━━━━━━━━━━━━━━━━━━\u001b[0m\u001b[37m━\u001b[0m \u001b[1m0s\u001b[0m 22ms/step - accuracy: 0.8890 - loss: 0.7434\n",
            "Epoch 9: val_loss improved from 1.04263 to 1.01997, saving model to end-to-end_transformer.keras\n",
            "\u001b[1m2603/2603\u001b[0m \u001b[32m━━━━━━━━━━━━━━━━━━━━\u001b[0m\u001b[37m\u001b[0m \u001b[1m70s\u001b[0m 27ms/step - accuracy: 0.8890 - loss: 0.7434 - val_accuracy: 0.8580 - val_loss: 1.0200 - learning_rate: 5.4881e-04\n",
            "Epoch 10/30\n",
            "\u001b[1m2602/2603\u001b[0m \u001b[32m━━━━━━━━━━━━━━━━━━━\u001b[0m\u001b[37m━\u001b[0m \u001b[1m0s\u001b[0m 22ms/step - accuracy: 0.8951 - loss: 0.6969\n",
            "Epoch 10: val_loss improved from 1.01997 to 1.00102, saving model to end-to-end_transformer.keras\n",
            "\u001b[1m2603/2603\u001b[0m \u001b[32m━━━━━━━━━━━━━━━━━━━━\u001b[0m\u001b[37m\u001b[0m \u001b[1m64s\u001b[0m 25ms/step - accuracy: 0.8951 - loss: 0.6969 - val_accuracy: 0.8606 - val_loss: 1.0010 - learning_rate: 4.9659e-04\n",
            "Epoch 11/30\n",
            "\u001b[1m2601/2603\u001b[0m \u001b[32m━━━━━━━━━━━━━━━━━━━\u001b[0m\u001b[37m━\u001b[0m \u001b[1m0s\u001b[0m 23ms/step - accuracy: 0.9004 - loss: 0.6560\n",
            "Epoch 11: val_loss improved from 1.00102 to 0.97817, saving model to end-to-end_transformer.keras\n",
            "\u001b[1m2603/2603\u001b[0m \u001b[32m━━━━━━━━━━━━━━━━━━━━\u001b[0m\u001b[37m\u001b[0m \u001b[1m87s\u001b[0m 27ms/step - accuracy: 0.9004 - loss: 0.6560 - val_accuracy: 0.8640 - val_loss: 0.9782 - learning_rate: 4.4933e-04\n",
            "Epoch 12/30\n",
            "\u001b[1m2601/2603\u001b[0m \u001b[32m━━━━━━━━━━━━━━━━━━━\u001b[0m\u001b[37m━\u001b[0m \u001b[1m0s\u001b[0m 22ms/step - accuracy: 0.9050 - loss: 0.6190\n",
            "Epoch 12: val_loss improved from 0.97817 to 0.96521, saving model to end-to-end_transformer.keras\n",
            "\u001b[1m2603/2603\u001b[0m \u001b[32m━━━━━━━━━━━━━━━━━━━━\u001b[0m\u001b[37m\u001b[0m \u001b[1m68s\u001b[0m 26ms/step - accuracy: 0.9050 - loss: 0.6190 - val_accuracy: 0.8656 - val_loss: 0.9652 - learning_rate: 4.0657e-04\n",
            "Epoch 13/30\n",
            "\u001b[1m2601/2603\u001b[0m \u001b[32m━━━━━━━━━━━━━━━━━━━\u001b[0m\u001b[37m━\u001b[0m \u001b[1m0s\u001b[0m 22ms/step - accuracy: 0.9095 - loss: 0.5839\n",
            "Epoch 13: val_loss improved from 0.96521 to 0.95357, saving model to end-to-end_transformer.keras\n",
            "\u001b[1m2603/2603\u001b[0m \u001b[32m━━━━━━━━━━━━━━━━━━━━\u001b[0m\u001b[37m\u001b[0m \u001b[1m69s\u001b[0m 26ms/step - accuracy: 0.9095 - loss: 0.5839 - val_accuracy: 0.8663 - val_loss: 0.9536 - learning_rate: 3.6788e-04\n",
            "Epoch 14/30\n",
            "\u001b[1m2602/2603\u001b[0m \u001b[32m━━━━━━━━━━━━━━━━━━━\u001b[0m\u001b[37m━\u001b[0m \u001b[1m0s\u001b[0m 23ms/step - accuracy: 0.9139 - loss: 0.5527\n",
            "Epoch 14: val_loss improved from 0.95357 to 0.94543, saving model to end-to-end_transformer.keras\n",
            "\u001b[1m2603/2603\u001b[0m \u001b[32m━━━━━━━━━━━━━━━━━━━━\u001b[0m\u001b[37m\u001b[0m \u001b[1m72s\u001b[0m 28ms/step - accuracy: 0.9139 - loss: 0.5527 - val_accuracy: 0.8676 - val_loss: 0.9454 - learning_rate: 3.3287e-04\n",
            "Epoch 15/30\n",
            "\u001b[1m2602/2603\u001b[0m \u001b[32m━━━━━━━━━━━━━━━━━━━\u001b[0m\u001b[37m━\u001b[0m \u001b[1m0s\u001b[0m 23ms/step - accuracy: 0.9175 - loss: 0.5242\n",
            "Epoch 15: val_loss improved from 0.94543 to 0.93629, saving model to end-to-end_transformer.keras\n",
            "\u001b[1m2603/2603\u001b[0m \u001b[32m━━━━━━━━━━━━━━━━━━━━\u001b[0m\u001b[37m\u001b[0m \u001b[1m68s\u001b[0m 26ms/step - accuracy: 0.9175 - loss: 0.5242 - val_accuracy: 0.8685 - val_loss: 0.9363 - learning_rate: 3.0119e-04\n",
            "Epoch 16/30\n",
            "\u001b[1m2602/2603\u001b[0m \u001b[32m━━━━━━━━━━━━━━━━━━━\u001b[0m\u001b[37m━\u001b[0m \u001b[1m0s\u001b[0m 22ms/step - accuracy: 0.9213 - loss: 0.4976\n",
            "Epoch 16: val_loss improved from 0.93629 to 0.93222, saving model to end-to-end_transformer.keras\n",
            "\u001b[1m2603/2603\u001b[0m \u001b[32m━━━━━━━━━━━━━━━━━━━━\u001b[0m\u001b[37m\u001b[0m \u001b[1m68s\u001b[0m 26ms/step - accuracy: 0.9213 - loss: 0.4976 - val_accuracy: 0.8691 - val_loss: 0.9322 - learning_rate: 2.7253e-04\n",
            "Epoch 17/30\n",
            "\u001b[1m2603/2603\u001b[0m \u001b[32m━━━━━━━━━━━━━━━━━━━━\u001b[0m\u001b[37m\u001b[0m \u001b[1m0s\u001b[0m 23ms/step - accuracy: 0.9247 - loss: 0.4723\n",
            "Epoch 17: val_loss improved from 0.93222 to 0.92844, saving model to end-to-end_transformer.keras\n",
            "\u001b[1m2603/2603\u001b[0m \u001b[32m━━━━━━━━━━━━━━━━━━━━\u001b[0m\u001b[37m\u001b[0m \u001b[1m66s\u001b[0m 25ms/step - accuracy: 0.9247 - loss: 0.4723 - val_accuracy: 0.8696 - val_loss: 0.9284 - learning_rate: 2.4660e-04\n",
            "Epoch 18/30\n",
            "\u001b[1m2603/2603\u001b[0m \u001b[32m━━━━━━━━━━━━━━━━━━━━\u001b[0m\u001b[37m\u001b[0m \u001b[1m0s\u001b[0m 22ms/step - accuracy: 0.9280 - loss: 0.4494\n",
            "Epoch 18: val_loss improved from 0.92844 to 0.92742, saving model to end-to-end_transformer.keras\n",
            "\u001b[1m2603/2603\u001b[0m \u001b[32m━━━━━━━━━━━━━━━━━━━━\u001b[0m\u001b[37m\u001b[0m \u001b[1m65s\u001b[0m 25ms/step - accuracy: 0.9280 - loss: 0.4494 - val_accuracy: 0.8697 - val_loss: 0.9274 - learning_rate: 2.2313e-04\n",
            "Epoch 19/30\n",
            "\u001b[1m2602/2603\u001b[0m \u001b[32m━━━━━━━━━━━━━━━━━━━\u001b[0m\u001b[37m━\u001b[0m \u001b[1m0s\u001b[0m 22ms/step - accuracy: 0.9313 - loss: 0.4272\n",
            "Epoch 19: val_loss improved from 0.92742 to 0.92381, saving model to end-to-end_transformer.keras\n",
            "\u001b[1m2603/2603\u001b[0m \u001b[32m━━━━━━━━━━━━━━━━━━━━\u001b[0m\u001b[37m\u001b[0m \u001b[1m69s\u001b[0m 27ms/step - accuracy: 0.9313 - loss: 0.4272 - val_accuracy: 0.8703 - val_loss: 0.9238 - learning_rate: 2.0190e-04\n",
            "Epoch 20/30\n",
            "\u001b[1m2602/2603\u001b[0m \u001b[32m━━━━━━━━━━━━━━━━━━━\u001b[0m\u001b[37m━\u001b[0m \u001b[1m0s\u001b[0m 23ms/step - accuracy: 0.9343 - loss: 0.4067\n",
            "Epoch 20: val_loss improved from 0.92381 to 0.92307, saving model to end-to-end_transformer.keras\n",
            "\u001b[1m2603/2603\u001b[0m \u001b[32m━━━━━━━━━━━━━━━━━━━━\u001b[0m\u001b[37m\u001b[0m \u001b[1m68s\u001b[0m 26ms/step - accuracy: 0.9343 - loss: 0.4067 - val_accuracy: 0.8708 - val_loss: 0.9231 - learning_rate: 1.8268e-04\n",
            "Epoch 21/30\n",
            "\u001b[1m2601/2603\u001b[0m \u001b[32m━━━━━━━━━━━━━━━━━━━\u001b[0m\u001b[37m━\u001b[0m \u001b[1m0s\u001b[0m 22ms/step - accuracy: 0.9370 - loss: 0.3876\n",
            "Epoch 21: val_loss improved from 0.92307 to 0.92139, saving model to end-to-end_transformer.keras\n",
            "\u001b[1m2603/2603\u001b[0m \u001b[32m━━━━━━━━━━━━━━━━━━━━\u001b[0m\u001b[37m\u001b[0m \u001b[1m65s\u001b[0m 25ms/step - accuracy: 0.9370 - loss: 0.3876 - val_accuracy: 0.8715 - val_loss: 0.9214 - learning_rate: 1.6530e-04\n",
            "Epoch 22/30\n",
            "\u001b[1m2602/2603\u001b[0m \u001b[32m━━━━━━━━━━━━━━━━━━━\u001b[0m\u001b[37m━\u001b[0m \u001b[1m0s\u001b[0m 23ms/step - accuracy: 0.9398 - loss: 0.3698\n",
            "Epoch 22: val_loss did not improve from 0.92139\n",
            "\u001b[1m2603/2603\u001b[0m \u001b[32m━━━━━━━━━━━━━━━━━━━━\u001b[0m\u001b[37m\u001b[0m \u001b[1m62s\u001b[0m 24ms/step - accuracy: 0.9398 - loss: 0.3698 - val_accuracy: 0.8714 - val_loss: 0.9224 - learning_rate: 1.4957e-04\n",
            "Epoch 23/30\n",
            "\u001b[1m2602/2603\u001b[0m \u001b[32m━━━━━━━━━━━━━━━━━━━\u001b[0m\u001b[37m━\u001b[0m \u001b[1m0s\u001b[0m 22ms/step - accuracy: 0.9425 - loss: 0.3529\n",
            "Epoch 23: val_loss did not improve from 0.92139\n",
            "\u001b[1m2603/2603\u001b[0m \u001b[32m━━━━━━━━━━━━━━━━━━━━\u001b[0m\u001b[37m\u001b[0m \u001b[1m62s\u001b[0m 24ms/step - accuracy: 0.9425 - loss: 0.3529 - val_accuracy: 0.8721 - val_loss: 0.9237 - learning_rate: 1.3534e-04\n",
            "Epoch 24/30\n",
            "\u001b[1m2602/2603\u001b[0m \u001b[32m━━━━━━━━━━━━━━━━━━━\u001b[0m\u001b[37m━\u001b[0m \u001b[1m0s\u001b[0m 23ms/step - accuracy: 0.9449 - loss: 0.3373\n",
            "Epoch 24: val_loss did not improve from 0.92139\n",
            "\u001b[1m2603/2603\u001b[0m \u001b[32m━━━━━━━━━━━━━━━━━━━━\u001b[0m\u001b[37m\u001b[0m \u001b[1m63s\u001b[0m 24ms/step - accuracy: 0.9450 - loss: 0.3373 - val_accuracy: 0.8720 - val_loss: 0.9246 - learning_rate: 1.2246e-04\n",
            "Epoch 25/30\n",
            "\u001b[1m2603/2603\u001b[0m \u001b[32m━━━━━━━━━━━━━━━━━━━━\u001b[0m\u001b[37m\u001b[0m \u001b[1m0s\u001b[0m 23ms/step - accuracy: 0.9472 - loss: 0.3225\n",
            "Epoch 25: val_loss did not improve from 0.92139\n",
            "\u001b[1m2603/2603\u001b[0m \u001b[32m━━━━━━━━━━━━━━━━━━━━\u001b[0m\u001b[37m\u001b[0m \u001b[1m63s\u001b[0m 24ms/step - accuracy: 0.9472 - loss: 0.3225 - val_accuracy: 0.8722 - val_loss: 0.9284 - learning_rate: 1.1080e-04\n",
            "Epoch 26/30\n",
            "\u001b[1m2602/2603\u001b[0m \u001b[32m━━━━━━━━━━━━━━━━━━━\u001b[0m\u001b[37m━\u001b[0m \u001b[1m0s\u001b[0m 22ms/step - accuracy: 0.9496 - loss: 0.3088\n",
            "Epoch 26: val_loss did not improve from 0.92139\n",
            "\u001b[1m2603/2603\u001b[0m \u001b[32m━━━━━━━━━━━━━━━━━━━━\u001b[0m\u001b[37m\u001b[0m \u001b[1m63s\u001b[0m 24ms/step - accuracy: 0.9496 - loss: 0.3088 - val_accuracy: 0.8723 - val_loss: 0.9321 - learning_rate: 1.0026e-04\n",
            "Epoch 27/30\n",
            "\u001b[1m2602/2603\u001b[0m \u001b[32m━━━━━━━━━━━━━━━━━━━\u001b[0m\u001b[37m━\u001b[0m \u001b[1m0s\u001b[0m 23ms/step - accuracy: 0.9516 - loss: 0.2964\n",
            "Epoch 27: val_loss did not improve from 0.92139\n",
            "\u001b[1m2603/2603\u001b[0m \u001b[32m━━━━━━━━━━━━━━━━━━━━\u001b[0m\u001b[37m\u001b[0m \u001b[1m63s\u001b[0m 24ms/step - accuracy: 0.9516 - loss: 0.2964 - val_accuracy: 0.8722 - val_loss: 0.9356 - learning_rate: 9.0718e-05\n",
            "Epoch 28/30\n",
            "\u001b[1m2603/2603\u001b[0m \u001b[32m━━━━━━━━━━━━━━━━━━━━\u001b[0m\u001b[37m\u001b[0m \u001b[1m0s\u001b[0m 22ms/step - accuracy: 0.9535 - loss: 0.2844\n",
            "Epoch 28: val_loss did not improve from 0.92139\n",
            "\u001b[1m2603/2603\u001b[0m \u001b[32m━━━━━━━━━━━━━━━━━━━━\u001b[0m\u001b[37m\u001b[0m \u001b[1m63s\u001b[0m 24ms/step - accuracy: 0.9535 - loss: 0.2844 - val_accuracy: 0.8724 - val_loss: 0.9387 - learning_rate: 8.2085e-05\n"
          ]
        }
      ]
    },
    {
      "cell_type": "code",
      "source": [
        "import matplotlib.pyplot as plt\n",
        "from keras.models import load_model\n",
        "import numpy as np\n",
        "\n",
        "model = load_model(\"end-to-end_transformer.keras\",\n",
        "                   custom_objects={\"TransformerEnconder\": TransformerEncoder,\n",
        "                                   \"PositionalEmbedding\": PositionalEmbedding,\n",
        "                                   \"TransformerDecoder\": TransformerDecoder})\n",
        "\n",
        "print(\"Accuracy:\")\n",
        "print(f\"loss: {np.average(history.history['loss']):.4f} - accuracy: {np.average(history.history['accuracy']) * 100:.2f}%\")\n",
        "\n",
        "plt.plot(history.history['accuracy'])\n",
        "plt.plot(history.history['val_accuracy'])\n",
        "plt.title('Model Accuracy')\n",
        "plt.ylabel('accuracy')\n",
        "plt.xlabel('epochs')\n",
        "plt.legend(['train', 'valid'], loc='lower right')\n",
        "plt.show()\n",
        "\n",
        "print(\"\\n\")\n",
        "\n",
        "plt.plot(history.history['loss'])\n",
        "plt.plot(history.history['val_loss'])\n",
        "plt.title('Model Loss')\n",
        "plt.ylabel('loss')\n",
        "plt.xlabel('epochs')\n",
        "plt.legend(['train', 'valid'], loc='upper right')\n",
        "plt.show()"
      ],
      "metadata": {
        "colab": {
          "base_uri": "https://localhost:8080/",
          "height": 1000
        },
        "id": "jogCf-CPn89i",
        "outputId": "5980c339-33ac-4d92-cc82-8a02b5638e90"
      },
      "execution_count": 55,
      "outputs": [
        {
          "output_type": "stream",
          "name": "stdout",
          "text": [
            "Accuracy:\n",
            "loss: 0.6828 - accuracy: 89.89%\n"
          ]
        },
        {
          "output_type": "display_data",
          "data": {
            "text/plain": [
              "<Figure size 640x480 with 1 Axes>"
            ],
            "image/png": "[encoded data removed]"
          },
          "metadata": {}
        },
        {
          "output_type": "stream",
          "name": "stdout",
          "text": [
            "\n",
            "\n"
          ]
        },
        {
          "output_type": "display_data",
          "data": {
            "text/plain": [
              "<Figure size 640x480 with 1 Axes>"
            ],
            "image/png": "[encoded data removed]"
          },
          "metadata": {}
        }
      ]
    },
    {
      "cell_type": "code",
      "source": [
        "spa_vocab = target_vectorization.get_vocabulary()\n",
        "spa_index_lookup = dict(zip(range(len(spa_vocab)), spa_vocab))\n",
        "max_decoded_sequence_length = 20\n",
        "\n",
        "def decode_sequence(input_sequence):\n",
        "    tokenized_input_sentence = source_vectorization([input_sequence]) # Vectorizing the english source\n",
        "    decoded_sentence = \"[start]\" # Points the start of output (target) sequence\n",
        "    model = load_model(\"end-to-end_transformer.keras\",\n",
        "                        custom_objects={\"TransformerEnconder\": TransformerEncoder,\n",
        "                                   \"PositionalEmbedding\": PositionalEmbedding,\n",
        "                                   \"TransformerDecoder\": TransformerDecoder})\n",
        "\n",
        "    for i in range(max_decoded_sequence_length):\n",
        "        # All samples from batch, with exception of last token, wich will be predicted\n",
        "        tokenized_target_sentence = target_vectorization([decoded_sentence])[:, :-1]\n",
        "        predictions = model([tokenized_input_sentence, tokenized_target_sentence]) # Feed the model\n",
        "\n",
        "        sampled_token_index = ops.convert_to_numpy(\n",
        "            ops.argmax(predictions[0, i, :]) # Access the prediction for the 'i' token from batch 0\n",
        "                                             # Takes all probabilities with \":\"\n",
        "        ).item() # Transforms the tensor into a scalar\n",
        "        sampled_token = spa_index_lookup[sampled_token_index] # Search for the token in vocab\n",
        "        decoded_sentence += \" \" + sampled_token # Joins with the so far decoded sentence\n",
        "\n",
        "        if sampled_token == \"[end]\":\n",
        "            break\n",
        "    return decoded_sentence\n",
        "\n",
        "test_eng_texts = [pair[0] for pair in test_pairs]\n",
        "for _ in range(30):\n",
        "    input_sentence = random.choice(test_eng_texts)\n",
        "    translated = decode_sequence(input_sentence)\n",
        "    print(input_sentence, \"->\", translated)"
      ],
      "metadata": {
        "id": "wwjm5f3LwlqH",
        "execution": {
          "iopub.status.busy": "2024-10-12T23:14:27.221134Z",
          "iopub.status.idle": "2024-10-12T23:14:27.221471Z",
          "shell.execute_reply.started": "2024-10-12T23:14:27.221273Z",
          "shell.execute_reply": "2024-10-12T23:14:27.221289Z"
        },
        "trusted": true,
        "colab": {
          "base_uri": "https://localhost:8080/"
        },
        "outputId": "dae4c04c-2f1f-48c7-f060-da1e9e496795"
      },
      "execution_count": 53,
      "outputs": [
        {
          "output_type": "stream",
          "name": "stdout",
          "text": [
            "The Queen's crown was made of gold. -> [start] la [UNK] se hizo [UNK] del oro [end]\n",
            "She saw him at the station. -> [start] ella lo vio en la estación [end]\n",
            "I have been reading the book all afternoon. -> [start] tengo que estado leyendo la tarde [end]\n",
            "He insulted our team. -> [start] Él [UNK] nuestro equipo [end]\n",
            "Please wait for me. -> [start] por favor espere por mí [end]\n",
            "She ignored him all day. -> [start] ella lo ignoró todo el día [end]\n",
            "The only thing that really matters is whether or not you are happy. -> [start] lo único que verdaderamente importa es realmente si no te lo feliz [end]\n",
            "This play has three acts. -> [start] esta obra tiene tres acondicionado [end]\n",
            "Salt is used to season food. -> [start] la leche es usado comida [end]\n",
            "It was just a joke. -> [start] fue pura una broma [end]\n",
            "Only one thing worries me. -> [start] solo hay una cosa para mí [end]\n",
            "This is the place where he killed himself. -> [start] Éste es el lugar donde él se encontró [end]\n",
            "Will you please show me the way? -> [start] me [UNK] la nota por favor [end]\n",
            "I remember everything. -> [start] recuerdo todo [end]\n",
            "Say that again, please. -> [start] [UNK] de nuevo [end]\n",
            "I've been asked to help you. -> [start] te han pedido que te ayudara [end]\n",
            "Tom wanted to ask Mary a question. -> [start] tom quería hacer una pregunta a mary [end]\n",
            "Tom doesn't want me to stay. -> [start] tom no quiere que se quedara [end]\n",
            "Tom poured hot water into the cup. -> [start] tom picó agua hirviendo en la fiesta [end]\n",
            "I think we've waited long enough. -> [start] creo que hemos tomado bastante tiempo [end]\n",
            "The boy tried to saw off the dead branch. -> [start] el niño listo que se vio la curó [end]\n",
            "I think you should go by taxi. -> [start] creo que deberías ir en taxi [end]\n",
            "I was at the theater. -> [start] estaba en el teatro [end]\n",
            "She sings out of tune. -> [start] ella se paró de engañar [end]\n",
            "Do you really think that Tom will be able to help Mary? -> [start] alguna verdad que tom lo podrá que le va a ayudar a mary [end]\n",
            "Tom made Mary a cake for her party. -> [start] tom le preparó una torta a mary [end]\n",
            "I broke a glass when I did the dishes. -> [start] [UNK] un vaso cuando hice los platos [end]\n",
            "Take care. -> [start] coge [end]\n",
            "I'll come tomorrow. -> [start] iré mañana [end]\n",
            "She became drowsy after supper. -> [start] ella se hizo 2000 después de la cena [end]\n"
          ]
        }
      ]
    }
  ]
}